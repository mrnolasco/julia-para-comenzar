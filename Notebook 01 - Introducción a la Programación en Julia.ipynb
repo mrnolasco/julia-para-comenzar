{
 "cells": [
  {
   "cell_type": "markdown",
   "metadata": {},
   "source": [
    "<a name=\"contenidos\"></a>\n",
    "# <font color=blue>Introducción a la Programación en Julia</font>\n",
    "1. [Introducción a Julia](#U1)\n",
    "    * [Introducción y Comandos Básicos](#U1)\n",
    "    * [Asignación de Valores](#U1S0)\n",
    "    * [Comentarios](#U1S1)\n",
    "    * [Caracteres Unicode](#U1S2)\n",
    "    * [Modo de Ayuda en la Consola](#U1S3)\n",
    "    * [Tipo de Variables](#U1S4)\n",
    "    * [Cadenas de caracteres](#U1S5)\n",
    "    * [Impresión de variables](#U1S6)\n",
    "\n",
    "\n",
    "2. [Estructuras de datos](#U2)\n",
    "    * [Diccionarios](#U2S1)\n",
    "    * [Arreglos](#U2S2)\n",
    "    * [Tuplas](#U2S3)\n",
    "    * [Conjuntos](#U2S4)\n",
    "    * [Tipos Estructurados](#U2S5)\n",
    "    \n",
    "\n",
    "3. [Condicionales y Ciclos](#U3)\n",
    "    * [Condicionales](#U3S1)\n",
    "        * [¿está o no está?](#U3S1S1)\n",
    "        * [Comparaciones](#U3S1S2)\n",
    "        * [Operadores lógicos](#U3S1S3)\n",
    "        * [IF, ELSE, ELSEIF](#U3S1S4)\n",
    "    * [Ciclos](#U3S2)\n",
    "        * [WHILE](#U3S2S1)\n",
    "        * [FOR](#U3S2S2)\n",
    "        \n",
    "4. [Operaciones y Funciones](#U4)\n",
    "    * [Operaciones](#U4S1)\n",
    "        * [Operaciones con variables numéricas](#U4S1S1)\n",
    "        * [Operaciones entre arreglos de números](#U4S1S2)\n",
    "        * [Operaciones entre matrices](#U4S1S3)\n",
    "        * [Operaciones entre cadenas](#U4S1S4)\n",
    "    * [Funciones](#U4S2)\n",
    "        * [Algunas funciones matemáticas predefinidas](#U4S2S1)\n",
    "        * [Algunas funciones para arreglos](#U4S2S2)\n",
    "        * [Define tus propias funciones](#U4S2S3)\n",
    "        * [Map](#U4S2S4)\n",
    "        * [Broadcasting](#U4S2S5)\n",
    "        * [Sintaxis general](#U4S2S6)\n",
    "        * [Conversiones](#U4S2S7)\n",
    "5. [Ejercicios](#U5)\n"
   ]
  },
  {
   "cell_type": "markdown",
   "metadata": {},
   "source": [
    "# [<font color=blue>Introducción a Julia</font>](#contenidos) <a name=\"U1\"></a>"
   ]
  },
  {
   "cell_type": "markdown",
   "metadata": {},
   "source": [
    "* Julia es un lenguaje de programación de alto nivel y alto rendimiento diseñado para la computación numérica y científica.\n",
    "\n",
    "\n",
    "* Fue lanzado en 2012 y combina una sintaxis moderna y amigable con una velocidad comparable a la de C.\n",
    "\n",
    "\n",
    "* Julia es de código abierto y cuenta con una amplia biblioteca de herramientas y paquetes para una variedad de aplicaciones científicas. \n",
    "\n",
    "\n",
    "* Su enfoque en la velocidad y la facilidad de uso lo convierten en una excelente opción para aquellos que trabajan en investigación y ciencia de datos.\n",
    "\n",
    "> Julia es un lenguaje de programación que admite múltiples paradigmas, incluidos la programación orientada a objetos, la programación funcional y la programación por procedimientos. \n",
    "\n",
    "* De hecho, una de las características más destacadas de Julia es su capacidad para mezclar estos paradigmas en un solo programa de manera efectiva, lo que permite a los programadores elegir la mejor forma de resolver un problema en particular. "
   ]
  },
  {
   "cell_type": "markdown",
   "metadata": {},
   "source": [
    "### Programación orientada a objetos (POO): \n",
    "\n",
    "Este paradigma se centra en la creación de objetos que contienen datos y métodos que operan sobre esos datos. \n",
    "\n",
    "En Julia, los objetos son instancias de tipos abstractos o concretos, y se pueden definir estructuras de datos personalizadas con el uso de estructuras de tipo, constructores y métodos. \n",
    "\n",
    "Ejemplos de aplicaciones que utilizan POO en Julia incluyen la creación de simulaciones físicas o modelos de objetos del mundo real."
   ]
  },
  {
   "cell_type": "code",
   "execution_count": null,
   "metadata": {},
   "outputs": [],
   "source": [
    "# Definir un tipo abstracto llamado Animal\n",
    "abstract type Animal end\n",
    "\n",
    "# Definir un tipo concreto llamado Cat que es un subtipo de Animal\n",
    "struct Cat <: Animal\n",
    "    name::String\n",
    "end\n",
    "\n",
    "# Definir un tipo concreto llamado Dog que es un subtipo de Animal\n",
    "struct Dog <: Animal\n",
    "    name::String\n",
    "end\n",
    "\n",
    "#= Definir una función llamada speak que toma un argumento de tipo \n",
    "Animal y devuelve un saludo con el nombre del animal\n",
    "=#\n",
    "speak(a::Animal) = \"Hello, my name is $(a.name)\"\n",
    "\n",
    "# Crear un objeto Cat con el nombre \"Whiskers\"\n",
    "cat = Cat(\"Whiskers\")\n",
    "\n",
    "# Crear un objeto Dog con el nombre \"Fido\"\n",
    "dog = Dog(\"Fido\")\n",
    "\n",
    "# Llamar a la función speak con el objeto Cat y imprimir el resultado\n",
    "println(speak(cat))  # \"Hello, my name is Whiskers\"\n",
    "\n",
    "# Llamar a la función speak con el objeto Dog y imprimir el resultado\n",
    "println(speak(dog))  # \"Hello, my name is Fido\"\n"
   ]
  },
  {
   "cell_type": "markdown",
   "metadata": {},
   "source": [
    "- Este código define un tipo abstracto llamado `Animal`, que es la superclase de dos tipos concretos llamados `Cat` y `Dog`. Cada objeto `Cat` y `Dog` tiene un atributo `name` que almacena el nombre del animal.\n",
    "\n",
    "- La función `speak` es polimórfica, lo que significa que toma un objeto de cualquier tipo que sea un subtipo de `Animal`. La función devuelve una cadena de saludo con el nombre del animal.\n",
    "\n",
    "- Luego, el código crea un objeto `Cat` con el nombre `\"Whiskers\"` y un objeto `Dog` con el nombre `\"Fido\"`. Luego, llama a la función `speak` con cada objeto y usa la función `println` para imprimir los resultados."
   ]
  },
  {
   "cell_type": "markdown",
   "metadata": {},
   "source": [
    "### Programación funcional: \n",
    "\n",
    "Este paradigma se centra en la creación de funciones puras que no tienen efectos secundarios y producen los mismos resultados cada vez que se las llama con los mismos argumentos. \n",
    "\n",
    "En Julia, se pueden crear funciones puras con el uso de funciones anónimas, funciones de orden superior y operaciones de mapeo y reducción. \n",
    "\n",
    "Ejemplos de aplicaciones que utilizan programación funcional en Julia incluyen el procesamiento de señales, el procesamiento de imágenes y el análisis estadístico."
   ]
  },
  {
   "cell_type": "code",
   "execution_count": null,
   "metadata": {},
   "outputs": [],
   "source": [
    "# Definir una función llamada square que toma un número y devuelve su cuadrado\n",
    "square(x) = x^2\n",
    "\n",
    "# Crear una matriz de números\n",
    "numbers = [1, 2, 3, 4, 5]\n",
    "\n",
    "# Aplicar la función square a cada elemento de numbers usando la función map y almacenar los resultados en otra matriz\n",
    "squares = map(square, numbers)\n",
    "\n",
    "# Calcular la suma de los elementos de la matriz de cuadrados usando la función reduce\n",
    "sum_squares = reduce(+, squares)\n",
    "\n",
    "# Imprimir la suma de los cuadrados\n",
    "println(sum_squares)  # 55\n"
   ]
  },
  {
   "cell_type": "markdown",
   "metadata": {},
   "source": [
    "- En este código, la función `square` toma un número y devuelve su cuadrado.\n",
    "- Luego, el código crea una matriz llamada `numbers` que contiene los números enteros del 1 al 5. \n",
    "- La función `map` se utiliza para aplicar la función `square` a cada elemento de la matriz `numbers`, y los resultados se almacenan en una nueva matriz llamada `squares`.\n",
    "- La función `reduce` se utiliza para sumar los elementos de la matriz `squares`. La función `+` se pasa como el primer argumento a `reduce` para indicar que se debe sumar los elementos. El segundo argumento es la matriz de cuadrados.\n",
    "- Finalmente, la función `println` se utiliza para imprimir el resultado de la suma de cuadrados, que es 55 en este caso."
   ]
  },
  {
   "cell_type": "markdown",
   "metadata": {},
   "source": [
    "### Programación por procedimientos: \n",
    "\n",
    "Este paradigma se centra en la creación de secuencias de instrucciones que se ejecutan en orden para resolver un problema. \n",
    "\n",
    "En Julia, se pueden crear programas por procedimientos con el uso de estructuras de control de flujo, como bucles y condicionales, y funciones que operan sobre datos estructurados. \n",
    "\n",
    "Ejemplos de aplicaciones que utilizan programación procedural en Julia incluyen el procesamiento de datos en lotes y la automatización de tareas."
   ]
  },
  {
   "cell_type": "code",
   "execution_count": null,
   "metadata": {},
   "outputs": [],
   "source": [
    "\"\"\"\n",
    "    factorial(n)\n",
    "\n",
    "Devuelve el factorial de n.\n",
    "\n",
    "# Ejemplo\n",
    "```julia\n",
    "julia> factorial(5)\n",
    "120\n",
    "\"\"\"\n",
    "function factorial(n)\n",
    "    # Inicializar una variable llamada resultado con el valor 1\n",
    "    result = 1\n",
    "    # Hacer un bucle for que recorre los enteros del 1 al n\n",
    "    for i in 1:n\n",
    "        # Multiplicar el resultado actual por i y almacenar el nuevo valor en resultado\n",
    "        result *= i\n",
    "    end\n",
    "    # Devolver el resultado final\n",
    "    return result\n",
    "end"
   ]
  },
  {
   "cell_type": "code",
   "execution_count": null,
   "metadata": {},
   "outputs": [],
   "source": [
    "# El factorial de 5 (debería ser 120)\n",
    "factorial(5)  # 120"
   ]
  },
  {
   "cell_type": "markdown",
   "metadata": {},
   "source": [
    "### Comandos básicos"
   ]
  },
  {
   "cell_type": "markdown",
   "metadata": {},
   "source": [
    "El comando `versioninfo()` es un comando útil en Julia que muestra información sobre la versión de Julia que estás utilizando y la versión de los componentes principales que lo acompañan.\n",
    "\n",
    "Por ejemplo en la salida de \n",
    "```julia \n",
    "versioninfo()\n",
    "```\n",
    "Obtenemos:"
   ]
  },
  {
   "cell_type": "raw",
   "metadata": {},
   "source": [
    "Julia Version 1.8.5\n",
    "Commit 17cfb8e65e (2023-01-08 06:45 UTC)\n",
    "Platform Info:\n",
    "  OS: Windows (x86_64-w64-mingw32)\n",
    "  CPU: 8 × Intel(R) Core(TM) i7-6820HQ CPU @ 2.70GHz\n",
    "  WORD_SIZE: 64\n",
    "  LIBM: libopenlibm\n",
    "  LLVM: libLLVM-13.0.1 (ORCJIT, skylake)\n",
    "  Threads: 1 on 8 virtual cores"
   ]
  },
  {
   "cell_type": "markdown",
   "metadata": {},
   "source": [
    "En este caso, se muestra información sobre la versión de `Julia 1.8.5` que se está ejecutando en un sistema operativo `Windows` con un procesador `Intel Core i7-6820HQ` de 8 núcleos virtuales. Además, se informa sobre la configuración de las bibliotecas matemáticas (`libopenlibm`) y el compilador LLVM (`libLLVM-13.0.1`). También se indica que hay 8 núcleos virtuales disponibles, pero actualmente solo se está utilizando un hilo en esta sesión de Julia."
   ]
  },
  {
   "cell_type": "code",
   "execution_count": null,
   "metadata": {
    "scrolled": true
   },
   "outputs": [],
   "source": [
    "versioninfo()"
   ]
  },
  {
   "cell_type": "markdown",
   "metadata": {},
   "source": [
    "El comando `pwd()` en Julia se utiliza para obtener el directorio de trabajo actual (del inglés, \"current working directory\").\n",
    "\n",
    "Cuando se ejecuta `pwd()`, Julia devuelve una cadena de texto que indica la ruta absoluta del directorio en el que se está trabajando actualmente. Por lo general, esto se establece cuando se inicia la sesión de Julia y se puede cambiar con el comando `cd()` (cambiar directorio).\n",
    "\n",
    "Aquí hay un ejemplo de cómo se puede usar pwd() en Julia:"
   ]
  },
  {
   "cell_type": "code",
   "execution_count": null,
   "metadata": {},
   "outputs": [],
   "source": [
    "pwd()"
   ]
  },
  {
   "cell_type": "markdown",
   "metadata": {},
   "source": [
    "El comando `readdir()` en Julia se utiliza para obtener una lista de los archivos y subdirectorios contenidos en un directorio específico.\n",
    "\n",
    "Cuando se ejecuta `readdir()` sin argumentos, devuelve una lista de los archivos y subdirectorios en el directorio de trabajo actual. Si se proporciona un argumento que sea una ruta de directorio, entonces el comando `readdir()` devolverá una lista de los archivos y subdirectorios en el directorio especificado por la ruta.\n",
    "\n",
    "Aquí hay un ejemplo de cómo se puede usar `readdir()` en Julia:"
   ]
  },
  {
   "cell_type": "code",
   "execution_count": null,
   "metadata": {},
   "outputs": [],
   "source": [
    "readdir()"
   ]
  },
  {
   "cell_type": "markdown",
   "metadata": {},
   "source": [
    "## [Asignación de Valores](#contenidos) <a name=\"U1S0\"></a>\n",
    "Para asignar un valor a una variable, simplemente escribe el nombre de la variable, seguido del signo `=` y luego el valor que deseas asignar. \n",
    "\n",
    "Aquí un ejemplo:"
   ]
  },
  {
   "cell_type": "code",
   "execution_count": null,
   "metadata": {},
   "outputs": [],
   "source": [
    "a = 5.1"
   ]
  },
  {
   "cell_type": "code",
   "execution_count": null,
   "metadata": {},
   "outputs": [],
   "source": [
    "a"
   ]
  },
  {
   "cell_type": "markdown",
   "metadata": {},
   "source": [
    "En Julia se puede usar el punto y coma `;` para separar múltiples instrucciones en una sola línea.\n",
    "\n",
    "Es importante tener en cuenta que aunque se pueden poner varias instrucciones en la misma línea separadas por `;`, esto puede hacer que el código sea más difícil de leer y mantener. Por lo general, es mejor poner cada instrucción en una línea separada para hacer el código más legible."
   ]
  },
  {
   "cell_type": "code",
   "execution_count": null,
   "metadata": {},
   "outputs": [],
   "source": [
    "b = a + 1; c = 5.2a"
   ]
  },
  {
   "cell_type": "markdown",
   "metadata": {},
   "source": [
    "Julia muestra el valor asignado a la última variable"
   ]
  },
  {
   "cell_type": "markdown",
   "metadata": {},
   "source": [
    "## [Comentarios](#contenidos) <a name=\"U1S1\"></a>"
   ]
  },
  {
   "cell_type": "markdown",
   "metadata": {},
   "source": [
    "Para poner comentarios de una línea ponga `#` y luego el texto.\n",
    "\n",
    "Cualquier texto que siga al símbolo `#`\t en una línea se considera un comentario y se ignora durante la ejecución del código. Los comentarios son útiles para explicar el propósito de un código, documentar su uso o aclarar partes del código que pueden ser confusas."
   ]
  },
  {
   "cell_type": "code",
   "execution_count": null,
   "metadata": {},
   "outputs": [],
   "source": [
    "# Mi primer comentario"
   ]
  },
  {
   "cell_type": "markdown",
   "metadata": {},
   "source": [
    "En Julia se pueden agregar comentarios multilínea utilizando la sintaxis `#=` y `=#`.\n",
    "\n",
    "La sintaxis `#=` se utiliza para iniciar un bloque de comentarios multilínea, y la sintaxis `=#` se utiliza para terminar el bloque de comentarios."
   ]
  },
  {
   "cell_type": "code",
   "execution_count": null,
   "metadata": {},
   "outputs": [],
   "source": [
    "#= \n",
    "Este es un comentario\n",
    "que se extiende\n",
    "a varias líneas \n",
    "=#"
   ]
  },
  {
   "cell_type": "markdown",
   "metadata": {},
   "source": [
    "## [Caracteres Unicode](#contenidos) <a name=\"U1S2\"></a>\n",
    "\n",
    "\n",
    "En Julia, se pueden utilizar caracteres Unicode para escribir fórmulas matemáticas y otros símbolos especiales. Esto hace que el código sea más legible y fácil de entender.\n",
    "\n",
    "Para insertar un carácter Unicode en el código, se puede utilizar el comando `\\` seguido del nombre del símbolo y luego presionar la tecla `TAB`. Julia completará automáticamente el nombre del símbolo y lo convertirá en el símbolo correspondiente.\n",
    "> `\\comando` + `TAB`\n",
    "\n",
    "Aquí hay algunos ejemplos de comandos Unicode que se pueden utilizar en Julia:\n",
    "\n",
    "- `\\alpha` + `TAB` $\\quad\\longrightarrow\\quad\\alpha$\n",
    "- `\\beta` + `TAB` $\\quad\\longrightarrow\\quad\\beta$\n",
    "- `\\theta` + `TAB`  $\\quad\\longrightarrow\\quad\\theta$\n",
    "- `\\pi` + `TAB` $\\quad\\longrightarrow\\quad\\pi$\n",
    "- `\\sqrt` + `TAB` $\\quad\\longrightarrow\\quad\\sqrt{}$\n",
    "- `\\int` + `TAB` $\\quad\\longrightarrow\\quad\\int{}$\n",
    "- `\\sum` + `TAB` $\\quad\\longrightarrow\\quad\\sum{}$\n",
    "- `\\infty` + `TAB` $\\quad\\longrightarrow\\quad\\infty$\n"
   ]
  },
  {
   "cell_type": "code",
   "execution_count": null,
   "metadata": {},
   "outputs": [],
   "source": [
    "\\alpha   # presiona tecla TAB justo después del comando"
   ]
  },
  {
   "cell_type": "markdown",
   "metadata": {},
   "source": [
    "Además, podemos usar subíndices y super índices para nombrar las variables\n",
    "\n",
    "Para el subíndice usamos\n",
    "\n",
    "> `\\_` + `2` + `TAB`\n",
    "\n",
    "mientras que para el superíndice \n",
    "\n",
    "> `\\^` + `2` + `TAB`"
   ]
  },
  {
   "cell_type": "code",
   "execution_count": null,
   "metadata": {},
   "outputs": [],
   "source": [
    "α\\_i   # presiona tecla TAB justo después del comando"
   ]
  },
  {
   "cell_type": "code",
   "execution_count": null,
   "metadata": {},
   "outputs": [],
   "source": [
    "α\\^2   # presiona tecla TAB justo después del comando"
   ]
  },
  {
   "cell_type": "markdown",
   "metadata": {},
   "source": [
    "## [Modo de Ayuda en la Consola](#contenidos) <a name=\"U1S3\"></a>\n",
    "En Julia se puede obtener información sobre una función o comando utilizando el signo de interrogación (`?`) seguido del nombre de la función o comando.\n",
    "\n",
    "Se muestra información del comando y en ocasiones un ejemplo de como usarlo"
   ]
  },
  {
   "cell_type": "code",
   "execution_count": null,
   "metadata": {},
   "outputs": [],
   "source": [
    "?+"
   ]
  },
  {
   "cell_type": "markdown",
   "metadata": {},
   "source": [
    "La diferencia principal entre estos dos enfoques es que el operador `+` es una forma abreviada de llamar a la función `+` con dos argumentos, mientras que `+()` es una forma explícita de llamar a la función `+` con cualquier cantidad de argumentos. Es decir, `x + y + z` es equivalente a `+(x, y, z)`.\n",
    "\n",
    "La expresión `dt::Date + t::Time -> DateTime` especifica que es posible sumar fechas y horas en Julia, y que el resultado será un objeto de tipo `DateTime` que combina ambas."
   ]
  },
  {
   "cell_type": "code",
   "execution_count": null,
   "metadata": {},
   "outputs": [],
   "source": [
    "using Dates\n",
    "\n",
    "# Crear un objeto Date y un objeto Time\n",
    "d = Date(2023, 2, 14)\n",
    "t = Time(12, 30, 0)\n",
    "\n",
    "# Sumar los objetos Date y Time para obtener un objeto DateTime\n",
    "dt = d + t\n",
    "\n",
    "# Imprimir el resultado\n",
    "println(dt)"
   ]
  },
  {
   "cell_type": "markdown",
   "metadata": {},
   "source": [
    "## [Tipo de Variables](#contenidos) <a name=\"U1S4\"></a>\n",
    "En Julia, se puede utilizar el comando `typeof` para conocer el tipo de una variable. \n",
    "\n",
    "La sintaxis es la siguiente:\n",
    "```julia \n",
    "typeof(x)\n",
    "```\n",
    "donde `x` es la variable que queremos conocer su tipo."
   ]
  },
  {
   "cell_type": "code",
   "execution_count": null,
   "metadata": {},
   "outputs": [],
   "source": [
    "?typeof"
   ]
  },
  {
   "cell_type": "code",
   "execution_count": null,
   "metadata": {},
   "outputs": [],
   "source": [
    "typeof(d)"
   ]
  },
  {
   "cell_type": "code",
   "execution_count": null,
   "metadata": {},
   "outputs": [],
   "source": [
    "typeof(t)"
   ]
  },
  {
   "cell_type": "code",
   "execution_count": null,
   "metadata": {},
   "outputs": [],
   "source": [
    "typeof(dt)"
   ]
  },
  {
   "cell_type": "code",
   "execution_count": null,
   "metadata": {},
   "outputs": [],
   "source": [
    "typeof(100)"
   ]
  },
  {
   "cell_type": "code",
   "execution_count": null,
   "metadata": {},
   "outputs": [],
   "source": [
    "typeof(1000//10)"
   ]
  },
  {
   "cell_type": "code",
   "execution_count": null,
   "metadata": {},
   "outputs": [],
   "source": [
    "1//2+1//3"
   ]
  },
  {
   "cell_type": "code",
   "execution_count": null,
   "metadata": {},
   "outputs": [],
   "source": [
    "typeof(1f20)"
   ]
  },
  {
   "cell_type": "code",
   "execution_count": null,
   "metadata": {},
   "outputs": [],
   "source": [
    "typeof(100.0 )"
   ]
  },
  {
   "cell_type": "code",
   "execution_count": null,
   "metadata": {},
   "outputs": [],
   "source": [
    "typeof(1e2)"
   ]
  },
  {
   "cell_type": "code",
   "execution_count": null,
   "metadata": {},
   "outputs": [],
   "source": [
    "typeof(100+0im)"
   ]
  },
  {
   "cell_type": "markdown",
   "metadata": {},
   "source": [
    "## [Cadenas de caracteres](#contenidos) <a name=\"U1S5\"></a>"
   ]
  },
  {
   "cell_type": "markdown",
   "metadata": {},
   "source": [
    "En Julia, los caracteres se escriben entre comillas simples (`' '`):"
   ]
  },
  {
   "cell_type": "code",
   "execution_count": null,
   "metadata": {},
   "outputs": [],
   "source": [
    "caracter='s'\n",
    "typeof(caracter)"
   ]
  },
  {
   "cell_type": "markdown",
   "metadata": {},
   "source": [
    "mientras que las cadenas de texto se escriben entre comillas dobles (`\" \"`):"
   ]
  },
  {
   "cell_type": "code",
   "execution_count": null,
   "metadata": {},
   "outputs": [],
   "source": [
    "c = \"esto es una cadena\"\n",
    "typeof(c)"
   ]
  },
  {
   "cell_type": "markdown",
   "metadata": {},
   "source": [
    "Es importante tener en cuenta que las cadenas de texto en Julia son inmutables, es decir, no se pueden cambiar una vez que se han definido. Sin embargo, es posible construir nuevas cadenas a partir de las existentes utilizando diversas funciones y operaciones en cadenas, como la concatenación, la división y la eliminación de caracteres.\n",
    "\n",
    "Además, los caracteres y las cadenas de texto se pueden manipular y comparar utilizando operaciones y funciones específicas de Julia para manipular texto."
   ]
  },
  {
   "cell_type": "markdown",
   "metadata": {},
   "source": [
    "En Julia se puede acceder a los elementos de una cadena de texto utilizando su índice:\n",
    "- en Julia el primer índice es 1\n",
    "- usa `end` para referirte al último índice\n",
    "- podemos seleccionar los carácteres con un rango de indices"
   ]
  },
  {
   "cell_type": "code",
   "execution_count": null,
   "metadata": {},
   "outputs": [],
   "source": [
    "c[1]"
   ]
  },
  {
   "cell_type": "code",
   "execution_count": null,
   "metadata": {},
   "outputs": [],
   "source": [
    "c[end]"
   ]
  },
  {
   "cell_type": "code",
   "execution_count": null,
   "metadata": {},
   "outputs": [],
   "source": [
    "c[1:3]"
   ]
  },
  {
   "cell_type": "markdown",
   "metadata": {},
   "source": [
    "En Julia puedes concatenar cadenas con el operador `*`. \n",
    "\n",
    "Aquí te muestro algunos ejemplos:"
   ]
  },
  {
   "cell_type": "code",
   "execution_count": null,
   "metadata": {},
   "outputs": [],
   "source": [
    "\"Hola \" * \"mundo\""
   ]
  },
  {
   "cell_type": "code",
   "execution_count": null,
   "metadata": {},
   "outputs": [],
   "source": [
    "s1 = \"Julia\""
   ]
  },
  {
   "cell_type": "code",
   "execution_count": null,
   "metadata": {},
   "outputs": [],
   "source": [
    "s2 = \" es un lenguaje de programación.\""
   ]
  },
  {
   "cell_type": "code",
   "execution_count": null,
   "metadata": {},
   "outputs": [],
   "source": [
    "s1 * s2"
   ]
  },
  {
   "cell_type": "markdown",
   "metadata": {},
   "source": [
    "También puedes usar la función `string()` para concatenar cadenas o cualquier otro tipo de variable:"
   ]
  },
  {
   "cell_type": "code",
   "execution_count": null,
   "metadata": {},
   "outputs": [],
   "source": [
    "string(\"El número es \", 42)"
   ]
  },
  {
   "cell_type": "markdown",
   "metadata": {},
   "source": [
    "**Si concatenas dos caracteres, ¿qué obtienes?**"
   ]
  },
  {
   "cell_type": "markdown",
   "metadata": {},
   "source": [
    "Si concatenas dos caracteres en Julia, obtendrás una cadena de longitud 2."
   ]
  },
  {
   "cell_type": "code",
   "execution_count": null,
   "metadata": {},
   "outputs": [],
   "source": [
    "caracter1='m'\n",
    "caracter2='n'\n",
    "caracter1*caracter2"
   ]
  },
  {
   "cell_type": "code",
   "execution_count": null,
   "metadata": {},
   "outputs": [],
   "source": [
    "typeof(caracter1*caracter2)"
   ]
  },
  {
   "cell_type": "markdown",
   "metadata": {},
   "source": [
    "usa `length` para conocer el tamaño de una cadena"
   ]
  },
  {
   "cell_type": "code",
   "execution_count": null,
   "metadata": {},
   "outputs": [],
   "source": [
    "length(caracter1*caracter2)"
   ]
  },
  {
   "cell_type": "markdown",
   "metadata": {},
   "source": [
    "## [Impresión de variables](#contenidos) <a name=\"U1S6\"></a>\n",
    "\n",
    "Usa el comando `println`  para mostrar el valor de una variable"
   ]
  },
  {
   "cell_type": "code",
   "execution_count": null,
   "metadata": {},
   "outputs": [],
   "source": [
    "α = 1/3\n",
    "β = α + 1 \n",
    "println(α)"
   ]
  },
  {
   "cell_type": "markdown",
   "metadata": {},
   "source": [
    "Podemos mostrar cadenas junto con el valor de una variable usando la síntaxis\n",
    "\n",
    "```julia\n",
    "println(\"texto $variable\")\n",
    "```"
   ]
  },
  {
   "cell_type": "markdown",
   "metadata": {},
   "source": [
    "Use `\\n` dentro de la cadena para agregar un salto de línea:"
   ]
  },
  {
   "cell_type": "code",
   "execution_count": null,
   "metadata": {},
   "outputs": [],
   "source": [
    "println(\"El valor de α es $α\\nEl valor de β es $β\")"
   ]
  },
  {
   "cell_type": "markdown",
   "metadata": {},
   "source": [
    "El comando `@sprintf` permite controlar el formato de una cadena que incluye valores numéricos y puede ser utilizado en conjunto con `println` para imprimir la cadena formateada en la salida estándar.\n",
    "\n",
    "Por ejemplo:"
   ]
  },
  {
   "cell_type": "code",
   "execution_count": null,
   "metadata": {},
   "outputs": [],
   "source": [
    "using Printf\n",
    "\n",
    "γ = 139;\n",
    "s=@sprintf \"entero = %d\\nflotante1 = %1.3e\\nflotante2 = %.2f\" γ α α;\n",
    "\n",
    "println(s)"
   ]
  },
  {
   "cell_type": "markdown",
   "metadata": {},
   "source": [
    "Donde:\n",
    "- `%d` indica que se debe imprimir el valor como un número entero.\n",
    "- `%.2f` indica que se debe imprimir el valor como un número de punto flotante con dos decimales después del punto.\n",
    "- `%1.3e` indica que se utilizará notación científica y que se mostrarán 3 cifras decimales."
   ]
  },
  {
   "cell_type": "markdown",
   "metadata": {},
   "source": [
    "# [<font color=blue>Estructuras de datos</font>](#contenidos) <a name=\"U2\"></a>"
   ]
  },
  {
   "cell_type": "markdown",
   "metadata": {},
   "source": [
    "Julia cuenta con varias estructuras de datos principales que se utilizan en la programación. A continuación, se describen algunas de las más importantes:\n",
    "1. [Diccionarios](#U2S1)\n",
    "1. [Arreglos](#U2S2)\n",
    "1. [Tuplas](#U2S3)\n",
    "1. [Conjuntos](#U2S4)\n",
    "1. [Tipos Estructurados](#U2S5)\n",
    "\n",
    "Estas son solo algunas de las estructuras de datos que se utilizan comúnmente en Julia. Existen otras como matrices dispersas, colas, pilas, entre otras."
   ]
  },
  {
   "cell_type": "markdown",
   "metadata": {},
   "source": [
    "## [Diccionarios](#contenidos) <a name=\"U2S1\"></a>"
   ]
  },
  {
   "cell_type": "markdown",
   "metadata": {},
   "source": [
    "Los diccionarios son estructuras de datos que se utilizan para almacenar valores asociados con claves. Cada clave debe ser única y se utiliza para acceder a su valor correspondiente. Para crear un diccionario, se usa la sintaxis:\n",
    "\n",
    "```julia\n",
    "Dict(\"clave1\" => valor1, \"clave2\" => valor2, ...)\n",
    "```\n",
    "\n",
    "Se puede usar por ejemplo para guardar una lista de contactos o una\n",
    "lista de calificaciones"
   ]
  },
  {
   "cell_type": "code",
   "execution_count": null,
   "metadata": {},
   "outputs": [],
   "source": [
    "contactos = Dict(\"Mauro\" => \"mau777@hotmail.com\", \"Ivan\" => \"ivan01@yahoo.com\" )"
   ]
  },
  {
   "cell_type": "code",
   "execution_count": null,
   "metadata": {},
   "outputs": [],
   "source": [
    "califica = Dict(\"Josue Panzera\" => 6, \"Andrea Regalado\" => 10, \"Diego Octopus\" => 8  )"
   ]
  },
  {
   "cell_type": "markdown",
   "metadata": {},
   "source": [
    "En el primer diccionario, se están almacenando correos electrónicos de algunos contactos, mientras que en el segundo se están almacenando calificaciones de algunos estudiantes.\n",
    "\n",
    "En el caso del diccionario `contactos`, el nombre es la *clave* y el correo es el *valor* asignado\n",
    "\n",
    "Podemos acceder a un valor especifico si indicamos la *clave* correspondiente"
   ]
  },
  {
   "cell_type": "code",
   "execution_count": null,
   "metadata": {},
   "outputs": [],
   "source": [
    "contactos[\"Mauro\"]"
   ]
  },
  {
   "cell_type": "code",
   "execution_count": null,
   "metadata": {},
   "outputs": [],
   "source": [
    "contactos[\"Ivan\"]"
   ]
  },
  {
   "cell_type": "markdown",
   "metadata": {},
   "source": [
    "Es posible remover elementos de un diccionario en Julia utilizando la función `pop!`. Por ejemplo, si se desea eliminar el contacto de `\"Ivan\"` del diccionario contactos, se puede hacer lo siguiente:"
   ]
  },
  {
   "cell_type": "code",
   "execution_count": null,
   "metadata": {},
   "outputs": [],
   "source": [
    "# Utiliza pop! para remover elementos de un diccionario\n",
    "pop!(contactos, \"Ivan\") \n",
    "contactos"
   ]
  },
  {
   "cell_type": "markdown",
   "metadata": {},
   "source": [
    "En este caso, se eliminó el contacto de `\"Ivan\"` y el diccionario resultante ahora solo contiene el contacto de `\"Mauro\"`.\n",
    "\n",
    "También es posible agregar elementos a un diccionario utilizando la asignación `=`. Por ejemplo, si se desea agregar el contacto de `\"Julia\"` al diccionario contactos, se puede hacer lo siguiente:"
   ]
  },
  {
   "cell_type": "code",
   "execution_count": null,
   "metadata": {},
   "outputs": [],
   "source": [
    "# Agrega elementos a un diccionario \n",
    "contactos[\"Julia\"] = \"jjul2002@gmail.com\" "
   ]
  },
  {
   "cell_type": "code",
   "execution_count": null,
   "metadata": {},
   "outputs": [],
   "source": [
    "contactos"
   ]
  },
  {
   "cell_type": "markdown",
   "metadata": {},
   "source": [
    "El valor de una *clave* puede ser cambiado simplemente asignando un nuevo valor a la llave en cuestión:"
   ]
  },
  {
   "cell_type": "code",
   "execution_count": null,
   "metadata": {},
   "outputs": [],
   "source": [
    "contactos[\"Julia\"] = \"julia2023@gmail.com\""
   ]
  },
  {
   "cell_type": "code",
   "execution_count": null,
   "metadata": {},
   "outputs": [],
   "source": [
    "contactos"
   ]
  },
  {
   "cell_type": "markdown",
   "metadata": {},
   "source": [
    "> Observación: Los diccionarios en Julia no están ordenados. \n",
    "\n",
    "Por ejemplo La instrucción\n",
    "```Julia\n",
    "contactos[1]\n",
    "```\n",
    "es incorrecta ya que no es posible acceder a un valor en un diccionario por su posición numérica."
   ]
  },
  {
   "cell_type": "code",
   "execution_count": null,
   "metadata": {},
   "outputs": [],
   "source": [
    "contactos[1]"
   ]
  },
  {
   "cell_type": "markdown",
   "metadata": {},
   "source": [
    "En su lugar, debe accederse a un valor en un diccionario por su llave."
   ]
  },
  {
   "cell_type": "markdown",
   "metadata": {},
   "source": [
    "## [Arreglos](#contenidos) <a name=\"U2S2\"></a>"
   ]
  },
  {
   "cell_type": "markdown",
   "metadata": {},
   "source": [
    "Los arreglos son estructuras de datos que permiten almacenar una colección ordenada de elementos. Se pueden crear arreglos de cualquier tipo de dato en Julia, incluyendo números, caracteres, cadenas de texto, estructuras de datos y funciones. Los arreglos se crean con corchetes `[]` y los elementos se separan con comas, se usa la sintaxis:\n",
    "Estructura de datos con la siguiente síntaxis:\n",
    "```Julia\n",
    "mi_arreglo1 = [ elemento1, elemento2, ....]\n",
    "\n",
    "mi_arreglo2 = [ elemento1 elemento2 ....]\n",
    "```\n",
    "\n",
    "los elementos pueden ser caracteres, cadenas, enteros, flotantes, combinaciones de éstos y más."
   ]
  },
  {
   "cell_type": "code",
   "execution_count": null,
   "metadata": {},
   "outputs": [],
   "source": [
    "arreglo_caracteres = [ 'a','b','c' ]"
   ]
  },
  {
   "cell_type": "code",
   "execution_count": null,
   "metadata": {},
   "outputs": [],
   "source": [
    "arreglo_cadenas = [ \"JPG\",\"PNG\",\"GIF\" ]"
   ]
  },
  {
   "cell_type": "code",
   "execution_count": null,
   "metadata": {},
   "outputs": [],
   "source": [
    "arreglo_enteros = [ 1, 10, 100, 1000 ]"
   ]
  },
  {
   "cell_type": "code",
   "execution_count": null,
   "metadata": {},
   "outputs": [],
   "source": [
    "arreglo1_flotantes = [ 1/3, π, 0.52, 1e2 ]"
   ]
  },
  {
   "cell_type": "code",
   "execution_count": null,
   "metadata": {},
   "outputs": [],
   "source": [
    "arreglo2_flotantes = [ 1/3 π 0.52 1e2 ]"
   ]
  },
  {
   "cell_type": "code",
   "execution_count": null,
   "metadata": {},
   "outputs": [],
   "source": [
    "arreglo_mixto = [ \"pan\" 14.5 10 ]"
   ]
  },
  {
   "cell_type": "markdown",
   "metadata": {},
   "source": [
    "Note que `arreglo1_flotantes` separado por comas es vector columna mientras que `arreglo2_flotantes` separado por espacios es vector renglón\n",
    "\n",
    "Un arreglo 2D se genera con arreglos 1D de misma longitud usa `length` para conocer el número de elementos de un arreglo"
   ]
  },
  {
   "cell_type": "code",
   "execution_count": null,
   "metadata": {},
   "outputs": [],
   "source": [
    "Arreglo_2D=[[1, 2, 0] [3, 4, 0]]"
   ]
  },
  {
   "cell_type": "code",
   "execution_count": null,
   "metadata": {},
   "outputs": [],
   "source": [
    "length(Arreglo_2D)"
   ]
  },
  {
   "cell_type": "code",
   "execution_count": null,
   "metadata": {},
   "outputs": [],
   "source": [
    "Arreglo_1D=[1, 2, 0, 3, 4, 0]"
   ]
  },
  {
   "cell_type": "code",
   "execution_count": null,
   "metadata": {},
   "outputs": [],
   "source": [
    "length(Arreglo_1D)"
   ]
  },
  {
   "cell_type": "markdown",
   "metadata": {},
   "source": [
    "El paquete `Latexify` se utiliza para convertir objetos de Julia en código LaTeX que se puede incluir en documentos LaTeX."
   ]
  },
  {
   "cell_type": "markdown",
   "metadata": {},
   "source": [
    "Para instalar el paquete debes ejecutar la siguiente línea cambiando primero el tipo de celda:"
   ]
  },
  {
   "cell_type": "raw",
   "metadata": {},
   "source": [
    "using Pkg; Pkg.add(\"Latexify\")"
   ]
  },
  {
   "cell_type": "code",
   "execution_count": null,
   "metadata": {
    "scrolled": false
   },
   "outputs": [],
   "source": [
    "using Latexify"
   ]
  },
  {
   "cell_type": "markdown",
   "metadata": {},
   "source": [
    "El paquete genera una tabla en LaTeX que representa el arreglo:"
   ]
  },
  {
   "cell_type": "code",
   "execution_count": null,
   "metadata": {},
   "outputs": [],
   "source": [
    "latexify(Arreglo_2D)"
   ]
  },
  {
   "cell_type": "code",
   "execution_count": null,
   "metadata": {},
   "outputs": [],
   "source": [
    "latexify(Arreglo_1D)"
   ]
  },
  {
   "cell_type": "markdown",
   "metadata": {},
   "source": [
    "Esto es útil para incluir arreglos de datos en informes o artículos escritos en LaTeX.\n",
    "\n",
    "Podemos obtener el código Latex de la siguiente manera:"
   ]
  },
  {
   "cell_type": "code",
   "execution_count": null,
   "metadata": {},
   "outputs": [],
   "source": [
    "latexify(Arreglo_2D)|> print"
   ]
  },
  {
   "cell_type": "code",
   "execution_count": null,
   "metadata": {},
   "outputs": [],
   "source": [
    "latexify(Arreglo_1D)|> print"
   ]
  },
  {
   "cell_type": "markdown",
   "metadata": {},
   "source": [
    "### Algunos comandos útiles para generar arreglos"
   ]
  },
  {
   "cell_type": "markdown",
   "metadata": {},
   "source": [
    "`ones` es una función en Julia que crea un arreglo de tamaño especificado con todos los elementos establecidos en uno. La sintaxis básica es la siguiente:\n",
    "```Julia\n",
    "ones(dim)\n",
    "```\n",
    "donde `dim` es una tupla o una serie de enteros separados por comas que especifican la dimensión del arreglo.\n",
    "\n",
    "Por ejemplo:"
   ]
  },
  {
   "cell_type": "code",
   "execution_count": null,
   "metadata": {},
   "outputs": [],
   "source": [
    "ones(2, 2)"
   ]
  },
  {
   "cell_type": "markdown",
   "metadata": {},
   "source": [
    "devuelve un arreglo de tamaño `2x2` con elementos de tipo `Float64` lleno de unos."
   ]
  },
  {
   "cell_type": "markdown",
   "metadata": {},
   "source": [
    "También es posible especificar el tipo de datos de los elementos en el arreglo utilizando el argumento opcional `T`.\n",
    "\n",
    "Por ejemplo:"
   ]
  },
  {
   "cell_type": "code",
   "execution_count": null,
   "metadata": {},
   "outputs": [],
   "source": [
    "ones(Int64, 2, 2)"
   ]
  },
  {
   "cell_type": "markdown",
   "metadata": {},
   "source": [
    "devuelve un arreglo de tamaño `2x2` con elementos de tipo `Int64` lleno de unos."
   ]
  },
  {
   "cell_type": "markdown",
   "metadata": {},
   "source": [
    "`zeros` es una función en Julia que crea un arreglo de tamaño especificado con todos los elementos establecidos en cero. La sintaxis básica es la siguiente:\n",
    "```Julia\n",
    "zeros(dim)\n",
    "```"
   ]
  },
  {
   "cell_type": "code",
   "execution_count": null,
   "metadata": {},
   "outputs": [],
   "source": [
    "zeros(3)"
   ]
  },
  {
   "cell_type": "code",
   "execution_count": null,
   "metadata": {},
   "outputs": [],
   "source": [
    "zeros(3, 1)"
   ]
  },
  {
   "cell_type": "code",
   "execution_count": null,
   "metadata": {},
   "outputs": [],
   "source": [
    "zeros(3, 4)"
   ]
  },
  {
   "cell_type": "code",
   "execution_count": null,
   "metadata": {},
   "outputs": [],
   "source": [
    "zeros(Int64, 3, 4)"
   ]
  },
  {
   "cell_type": "markdown",
   "metadata": {},
   "source": [
    "`rand` es una función en Julia que crea un arreglo de tamaño especificado con números aleatorios con distribución uniforme entre 0 y 1. \n",
    "\n",
    "La sintaxis básica es la siguiente:\n",
    "```Julia\n",
    "rand(dim)\n",
    "```\n",
    "\n",
    "`randn` genera un arreglo de números aleatorios distribuidos según una distribución normal estándar (media 0 y desviación estándar 1)."
   ]
  },
  {
   "cell_type": "code",
   "execution_count": null,
   "metadata": {},
   "outputs": [],
   "source": [
    "rand(6)"
   ]
  },
  {
   "cell_type": "code",
   "execution_count": null,
   "metadata": {},
   "outputs": [],
   "source": [
    "rand(4, 4)"
   ]
  },
  {
   "cell_type": "markdown",
   "metadata": {},
   "source": [
    "Podemos especificar el rango donde se toman los números:"
   ]
  },
  {
   "cell_type": "code",
   "execution_count": null,
   "metadata": {},
   "outputs": [],
   "source": [
    "rand(-10:10, 4, 4) "
   ]
  },
  {
   "cell_type": "markdown",
   "metadata": {},
   "source": [
    "Podemos usar un arreglo arbitrario de donde tomar los elementos:"
   ]
  },
  {
   "cell_type": "code",
   "execution_count": null,
   "metadata": {},
   "outputs": [],
   "source": [
    "rand(['α', 'β', 'γ', 'δ', 'ϵ'], 4, 4) "
   ]
  },
  {
   "cell_type": "markdown",
   "metadata": {},
   "source": [
    "`LinRange` es una función en Julia que crea un arreglo de valores equiespaciados linealmente en un rango dado. La sintaxis básica es la siguiente:\n",
    "\n",
    "```Julia\n",
    "LinRange(inicio, fin, n)\n",
    "```\n",
    "\n",
    "Donde `inicio` y `fin` son los límites del rango y `n` es el número de elementos en el arreglo resultante. \n",
    "\n",
    "Los elementos están espaciados uniformemente con una separación de `(fin-inicio)/(n-1)`\n",
    "\n",
    "Por ejemplo:"
   ]
  },
  {
   "cell_type": "code",
   "execution_count": null,
   "metadata": {},
   "outputs": [],
   "source": [
    "#Partición del intervalo [-π,π] de 11 puntos\n",
    "R = LinRange(-π,π, 11)"
   ]
  },
  {
   "cell_type": "markdown",
   "metadata": {},
   "source": [
    "`collect` es una función en Julia que toma un rango de números y lo convierte en un arreglo. \n",
    "\n",
    "Por ejemplo:"
   ]
  },
  {
   "cell_type": "code",
   "execution_count": null,
   "metadata": {},
   "outputs": [],
   "source": [
    "P = collect(R) "
   ]
  },
  {
   "cell_type": "markdown",
   "metadata": {},
   "source": [
    "`LinRange` es un tipo de dato en Julia que representa una secuencia lineal de valores con un espaciado uniforme entre ellos. Al utilizar la función `LinRange` se obtiene un objeto de tipo `LinRange{start, stop, length}` donde `start` es el valor inicial, `stop` es el valor final, y `length` es la longitud deseada de la secuencia.\n",
    "\n",
    "Por otro lado, al aplicar la función `collect` sobre un objeto de tipo `LinRange`, se convierte en un arreglo de números con el mismo espaciado entre ellos."
   ]
  },
  {
   "cell_type": "code",
   "execution_count": null,
   "metadata": {},
   "outputs": [],
   "source": [
    "println(typeof(R)) \n",
    "println(typeof(P)) "
   ]
  },
  {
   "cell_type": "markdown",
   "metadata": {},
   "source": [
    "`fill` es una función que crea un arreglo de tamaño `dims` y llena todos sus elementos con el valor `x`. La sintaxis básica es la siguiente:\n",
    "\n",
    "```Julia\n",
    "fill(x, dims...)\n",
    "```\n",
    "\n",
    "Por ejemplo:"
   ]
  },
  {
   "cell_type": "code",
   "execution_count": null,
   "metadata": {},
   "outputs": [],
   "source": [
    "fill(π, 3)"
   ]
  },
  {
   "cell_type": "code",
   "execution_count": null,
   "metadata": {},
   "outputs": [],
   "source": [
    "fill(Float64(π), 3) #Float64(x) cambia el tipo de π a Float64"
   ]
  },
  {
   "cell_type": "code",
   "execution_count": null,
   "metadata": {},
   "outputs": [],
   "source": [
    "fill(Float64(π), 3, 2)"
   ]
  },
  {
   "cell_type": "markdown",
   "metadata": {},
   "source": [
    "La función `vec` en Julia apila las columnas de una matriz en un solo arreglo unidimensional. La sintaxis básica es la siguiente:\n",
    "```Julia\n",
    "vec(A)\n",
    "```\n",
    "donde `A` es una matriz.\n",
    "\n",
    "Por ejemplo, si tenemos la siguiente matriz:"
   ]
  },
  {
   "cell_type": "code",
   "execution_count": null,
   "metadata": {},
   "outputs": [],
   "source": [
    "r = rand(3,4)"
   ]
  },
  {
   "cell_type": "markdown",
   "metadata": {},
   "source": [
    "Podemos apilar sus columnas en un solo arreglo usando vec de la siguiente manera:"
   ]
  },
  {
   "cell_type": "code",
   "execution_count": null,
   "metadata": {},
   "outputs": [],
   "source": [
    "vec(r)"
   ]
  },
  {
   "cell_type": "markdown",
   "metadata": {},
   "source": [
    "La función `reshape` permite cambiar la forma o tamaño de un arreglo, siempre y cuando la cantidad total de elementos se mantenga constante. La sintaxis básica es la siguiente:\n",
    "```Julia\n",
    "reshape(A, dims)\n",
    "```\n",
    "donde `A` es el arreglo que se desea cambiar de forma y `dims` es la tupla que especifica la nueva forma del arreglo. Por ejemplo:"
   ]
  },
  {
   "cell_type": "code",
   "execution_count": null,
   "metadata": {},
   "outputs": [],
   "source": [
    "r"
   ]
  },
  {
   "cell_type": "code",
   "execution_count": null,
   "metadata": {},
   "outputs": [],
   "source": [
    "reshape(r,2,6) #cambiamos de una matriz 3×4 a una matriz 2×6"
   ]
  },
  {
   "cell_type": "markdown",
   "metadata": {},
   "source": [
    "El operador de comilla simple `'`  se utiliza para calcular la transpuesta de un arreglo o matriz. Por ejemplo, si `A` es un arreglo o matriz, entonces `A'` devolverá la transpuesta de `A`.\n",
    "\n",
    "Es importante tener en cuenta que la transposición no modifica el arreglo original, sino que devuelve una nueva matriz transpuesta. Además, para matrices de mayor dimensión, `A'` intercambia los dos primeros índices, es decir, transpone la matriz respecto a su diagonal principal."
   ]
  },
  {
   "cell_type": "code",
   "execution_count": null,
   "metadata": {},
   "outputs": [],
   "source": [
    "r'"
   ]
  },
  {
   "cell_type": "code",
   "execution_count": null,
   "metadata": {},
   "outputs": [],
   "source": [
    "typeof(r')"
   ]
  },
  {
   "cell_type": "markdown",
   "metadata": {},
   "source": [
    "La transposición de una matriz en Julia se representa mediante un tipo especial de matriz llamado `Adjoint`. Este tipo de matriz tiene una representación interna optimizada que es diferente de la representación de una matriz regular transpuesta y se utiliza para realizar operaciones matriciales más eficientes. Por lo tanto, si se toma la transpuesta de una matriz `A` en Julia, el tipo de la matriz resultante será `Adjoint{<tipo_elemento>, <tipo_matriz_original>}`. Al usar el operador transpuesto `'`, Julia devuelve una matriz adjunta en lugar de una matriz transpuesta regular. Sin embargo, cuando se imprime en la consola, se muestra la matriz transpuesta como se esperaría verla matemáticamente.\n",
    "\n",
    "Al utilizar `'` se obtiene la matriz transpuesta conjugada, lo que en el caso de una matriz real es equivalente a la matriz transpuesta. \n",
    "\n",
    "Para obtener la matriz transpuesta real se puede utilizar la función `transpose()` o simplemente `'` dos veces consecutivas, es decir, `r''`:"
   ]
  },
  {
   "cell_type": "code",
   "execution_count": null,
   "metadata": {},
   "outputs": [],
   "source": [
    "transpose(r)"
   ]
  },
  {
   "cell_type": "code",
   "execution_count": null,
   "metadata": {},
   "outputs": [],
   "source": [
    "r''"
   ]
  },
  {
   "cell_type": "markdown",
   "metadata": {},
   "source": [
    "Al utilizar `collect()` se convierte el tipo `Adjoint{Float64, Matrix{Float64}}` a `Matrix{Float64}`."
   ]
  },
  {
   "cell_type": "code",
   "execution_count": null,
   "metadata": {},
   "outputs": [],
   "source": [
    "typeof(collect(r'))"
   ]
  },
  {
   "cell_type": "code",
   "execution_count": null,
   "metadata": {},
   "outputs": [],
   "source": [
    "collect(r')"
   ]
  },
  {
   "cell_type": "markdown",
   "metadata": {},
   "source": [
    "## [Tuplas](#contenidos) <a name=\"U2S3\"></a>"
   ]
  },
  {
   "cell_type": "markdown",
   "metadata": {},
   "source": [
    "Las tuplas son estructuras de datos que pueden contener cualquier número de elementos de diferentes tipos. A diferencia de los vectores, las tuplas son inmutables, lo que significa que no se pueden cambiar una vez que se han creado. Para crear una tupla, se usa la sintaxis:\n",
    "```Julia\n",
    "mi_tupla = (a, b, c)\n",
    "```\n",
    "\n",
    "Ejemplo:"
   ]
  },
  {
   "cell_type": "code",
   "execution_count": null,
   "metadata": {},
   "outputs": [],
   "source": [
    "t = (\"h\", 1, [1, 2, 3], π)"
   ]
  },
  {
   "cell_type": "code",
   "execution_count": null,
   "metadata": {},
   "outputs": [],
   "source": [
    "typeof(t)"
   ]
  },
  {
   "cell_type": "markdown",
   "metadata": {},
   "source": [
    "La variable `t` es una tupla que contiene un `String`, un `Int64`, un `Vector{Int64}` y un número irracional `π`. Por lo tanto, el tipo de `t` es `Tuple{String, Int64, Vector{Int64}, Irrational{:π}}`."
   ]
  },
  {
   "cell_type": "markdown",
   "metadata": {},
   "source": [
    "Los elementos de una tupla están ordenados por el índice"
   ]
  },
  {
   "cell_type": "code",
   "execution_count": null,
   "metadata": {},
   "outputs": [],
   "source": [
    "t[1]"
   ]
  },
  {
   "cell_type": "code",
   "execution_count": null,
   "metadata": {},
   "outputs": [],
   "source": [
    "t[3]"
   ]
  },
  {
   "cell_type": "markdown",
   "metadata": {},
   "source": [
    "Podemos usar los elementos de una tupla, pero no podemos modificarlos."
   ]
  },
  {
   "cell_type": "code",
   "execution_count": null,
   "metadata": {},
   "outputs": [],
   "source": [
    "t[1]*\"ola!\""
   ]
  },
  {
   "cell_type": "code",
   "execution_count": null,
   "metadata": {},
   "outputs": [],
   "source": [
    "t[4] = 3.1416"
   ]
  },
  {
   "cell_type": "markdown",
   "metadata": {},
   "source": [
    "El desempaquetamiento de tuplas se refiere a la extracción de los elementos individuales de una tupla y su asignación a variables separadas. En Julia, el desempaquetamiento de tuplas se puede hacer de varias formas.\n",
    "\n",
    "Una forma de desempaquetar tuplas es usando una asignación múltiple. Por ejemplo, si tenemos la tupla `(1, 2, 3)` y queremos asignar cada elemento a una variable diferente, podemos hacer lo siguiente:"
   ]
  },
  {
   "cell_type": "code",
   "execution_count": null,
   "metadata": {},
   "outputs": [],
   "source": [
    "tupla = (1, 2, 3)\n",
    "x₁, x₂, x₃ = tupla"
   ]
  },
  {
   "cell_type": "code",
   "execution_count": null,
   "metadata": {},
   "outputs": [],
   "source": [
    "x₁"
   ]
  },
  {
   "cell_type": "code",
   "execution_count": null,
   "metadata": {},
   "outputs": [],
   "source": [
    "x₂"
   ]
  },
  {
   "cell_type": "code",
   "execution_count": null,
   "metadata": {},
   "outputs": [],
   "source": [
    "x₃"
   ]
  },
  {
   "cell_type": "markdown",
   "metadata": {},
   "source": [
    "También podemos desempaquetar solo algunos elementos de una tupla. En este caso, podemos usar un guión bajo `_` para ignorar los elementos que no necesitamos. \n",
    "\n",
    "Por ejemplo:"
   ]
  },
  {
   "cell_type": "code",
   "execution_count": null,
   "metadata": {},
   "outputs": [],
   "source": [
    "x₁, _, x₃ = tupla"
   ]
  },
  {
   "cell_type": "markdown",
   "metadata": {},
   "source": [
    "Otra forma de desempaquetar tuplas es usando índices:"
   ]
  },
  {
   "cell_type": "code",
   "execution_count": null,
   "metadata": {},
   "outputs": [],
   "source": [
    "x₂ = tupla[2]"
   ]
  },
  {
   "cell_type": "markdown",
   "metadata": {},
   "source": [
    "También podemos desempaquetar tuplas dentro de otras estructuras de datos, como matrices o vectores. En este caso, usamos la misma sintaxis de asignación múltiple o índices para extraer los elementos de la tupla."
   ]
  },
  {
   "cell_type": "markdown",
   "metadata": {},
   "source": [
    "## [Conjuntos](#contenidos) <a name=\"U2S4\"></a>\n",
    "\n",
    "Los conjuntos son colecciones no ordenadas de elementos únicos. Se utilizan comúnmente para realizar operaciones de conjuntos, como unión, intersección y diferencia. \n",
    "Para crear un conjunto, se usa la sintaxis:\n",
    "```Julia\n",
    "Set([a, b, c])\n",
    "```\n",
    "donde `a`, `b` y `c` son los elementos que deseas agregar al conjunto."
   ]
  },
  {
   "cell_type": "markdown",
   "metadata": {},
   "source": [
    "Crear un conjunto vacío:"
   ]
  },
  {
   "cell_type": "code",
   "execution_count": null,
   "metadata": {},
   "outputs": [],
   "source": [
    "conjunto_vacio = Set()"
   ]
  },
  {
   "cell_type": "markdown",
   "metadata": {},
   "source": [
    "Crear un conjunto con algunos elementos:"
   ]
  },
  {
   "cell_type": "code",
   "execution_count": null,
   "metadata": {},
   "outputs": [],
   "source": [
    "conjunto1 = Set([1, 2, 3, 4, 5])\n",
    "conjunto2 = Set([3, 4, 5, 6, 7])"
   ]
  },
  {
   "cell_type": "markdown",
   "metadata": {},
   "source": [
    "Unión de dos conjuntos:"
   ]
  },
  {
   "cell_type": "code",
   "execution_count": null,
   "metadata": {},
   "outputs": [],
   "source": [
    "union(conjunto1, conjunto2)  "
   ]
  },
  {
   "cell_type": "markdown",
   "metadata": {},
   "source": [
    "Intersección de dos conjuntos:"
   ]
  },
  {
   "cell_type": "code",
   "execution_count": null,
   "metadata": {},
   "outputs": [],
   "source": [
    "intersect(conjunto1, conjunto2)  "
   ]
  },
  {
   "cell_type": "markdown",
   "metadata": {},
   "source": [
    "Diferencia de dos conjuntos:"
   ]
  },
  {
   "cell_type": "code",
   "execution_count": null,
   "metadata": {},
   "outputs": [],
   "source": [
    "setdiff(conjunto1, conjunto2)"
   ]
  },
  {
   "cell_type": "markdown",
   "metadata": {},
   "source": [
    "Agregar elementos a un conjunto:"
   ]
  },
  {
   "cell_type": "code",
   "execution_count": null,
   "metadata": {},
   "outputs": [],
   "source": [
    "push!(conjunto_vacio, 1)\n",
    "push!(conjunto_vacio, 2)\n",
    "push!(conjunto_vacio, 3)"
   ]
  },
  {
   "cell_type": "markdown",
   "metadata": {},
   "source": [
    "Verificar si un elemento está en un conjunto:"
   ]
  },
  {
   "cell_type": "code",
   "execution_count": null,
   "metadata": {},
   "outputs": [],
   "source": [
    "1 in conjunto_vacio  "
   ]
  },
  {
   "cell_type": "code",
   "execution_count": null,
   "metadata": {},
   "outputs": [],
   "source": [
    "4 in conjunto_vacio"
   ]
  },
  {
   "cell_type": "markdown",
   "metadata": {},
   "source": [
    "Eliminar un elemento de un conjunto:"
   ]
  },
  {
   "cell_type": "code",
   "execution_count": null,
   "metadata": {},
   "outputs": [],
   "source": [
    "pop!(conjunto_vacio, 1)"
   ]
  },
  {
   "cell_type": "code",
   "execution_count": null,
   "metadata": {},
   "outputs": [],
   "source": [
    "conjunto_vacio"
   ]
  },
  {
   "cell_type": "markdown",
   "metadata": {},
   "source": [
    "## [Tipos estructurados](#contenidos) <a name=\"U2S5\"></a>\n",
    "\n",
    "Los tipos estructurados se utilizan para definir nuevos tipos de datos personalizados que tienen campos con nombres y tipos específicos. \n",
    "\n",
    "Para definir un tipo estructurado, se usa la sintaxis:\n",
    "```Julia\n",
    "struct NombreTipo ... end\n",
    "```\n",
    "Aquí hay un ejemplo simple de cómo definir un tipo estructurado en Julia:"
   ]
  },
  {
   "cell_type": "code",
   "execution_count": null,
   "metadata": {},
   "outputs": [],
   "source": [
    "struct Persona\n",
    "    nombre::String\n",
    "    edad::Int\n",
    "end"
   ]
  },
  {
   "cell_type": "markdown",
   "metadata": {},
   "source": [
    "En este ejemplo, estamos definiendo un nuevo tipo de datos llamado `Persona`. La estructura `Persona` tiene dos campos: `nombre`, que es una cadena, y `edad`, que es un número entero. Podemos crear una nueva instancia de `Persona` especificando valores para los campos:"
   ]
  },
  {
   "cell_type": "code",
   "execution_count": null,
   "metadata": {},
   "outputs": [],
   "source": [
    "persona1 = Persona(\"Mario\", 33)"
   ]
  },
  {
   "cell_type": "markdown",
   "metadata": {},
   "source": [
    "En este caso, estamos creando una nueva instancia de `Persona` llamada `persona1` con nombre `\"Mario\"` y edad `33`. Podemos acceder a los campos de `persona1` utilizando la sintaxis de punto:"
   ]
  },
  {
   "cell_type": "code",
   "execution_count": null,
   "metadata": {},
   "outputs": [],
   "source": [
    "println(persona1.nombre)"
   ]
  },
  {
   "cell_type": "code",
   "execution_count": null,
   "metadata": {},
   "outputs": [],
   "source": [
    "println(persona1.edad)"
   ]
  },
  {
   "cell_type": "markdown",
   "metadata": {},
   "source": [
    "# [<font color=blue>Condicionales y Ciclos</font>](#contenidos) <a name=\"U3\"></a>"
   ]
  },
  {
   "cell_type": "markdown",
   "metadata": {},
   "source": [
    "## [Condicionales](#contenidos) <a name=\"U3S1\"></a>\n",
    "\n",
    "### [¿está o no está?](#contenidos) <a name=\"U3S1S1\"></a>\n",
    "\n",
    "En Julia `in` se utiliza para verificar si un valor se encuentra en una estructura de datos determinada. Retorna `true` si el valor está presente y `false` si no lo está.\n",
    "\n",
    "Ejemplo para tuplas"
   ]
  },
  {
   "cell_type": "code",
   "execution_count": null,
   "metadata": {},
   "outputs": [],
   "source": [
    "letra = \"α\"\n",
    "abc = (\"α\", \"β\", 0, 1)\n",
    "\n",
    "letra in abc"
   ]
  },
  {
   "cell_type": "markdown",
   "metadata": {},
   "source": [
    "Ejemplo para arreglos\n",
    "\n",
    "Creamos una variable `a` de tipo entero y una matriz aleatoria `C` de enteros entre 0 y 50\n",
    "\n",
    "Verificar si el valor de la variable `a` está en el arreglo `C`."
   ]
  },
  {
   "cell_type": "code",
   "execution_count": null,
   "metadata": {},
   "outputs": [],
   "source": [
    "a = 21\n",
    "C = rand(0:50, 5, 5)"
   ]
  },
  {
   "cell_type": "code",
   "execution_count": null,
   "metadata": {},
   "outputs": [],
   "source": [
    "a in C"
   ]
  },
  {
   "cell_type": "markdown",
   "metadata": {},
   "source": [
    "### [Comparaciones](#contenidos) <a name=\"U3S1S2\"></a>\n",
    "\n",
    "En Julia, `==` es un operador de comparación que se utiliza para verificar si dos objetos tienen el mismo valor. A diferencia del operador `=` que se utiliza para asignar valores a una variable, `==` se utiliza para comparar los valores de dos objetos.\n",
    "\n",
    "La función `==` devuelve `true` si los objetos son iguales y `false` en caso contrario. Los tipos de los objetos que se comparan no necesitan ser los mismos, pero deben ser comparables entre sí.\n",
    "\n",
    "Ejemplo:\n",
    "\n",
    "Sea $R$ matriz aleatoria $3\\times 3$ con elementos $1,10,100,1000$\n",
    "\n",
    "Verificar si $R_{3,3}=1000$  usando `==`"
   ]
  },
  {
   "cell_type": "code",
   "execution_count": null,
   "metadata": {},
   "outputs": [],
   "source": [
    "R = rand([1,10,100,1000],3,3)"
   ]
  },
  {
   "cell_type": "code",
   "execution_count": null,
   "metadata": {},
   "outputs": [],
   "source": [
    "R[3,3] == 1000"
   ]
  },
  {
   "cell_type": "markdown",
   "metadata": {},
   "source": [
    "Podemos acceder a bloques de matrices, por ejemplo el bloque $\\begin{pmatrix}r_{1,1} & r_{1,2} \\\\ r_{2,1} & r_{2,2}\\end{pmatrix}$ de la matriz $R$:"
   ]
  },
  {
   "cell_type": "code",
   "execution_count": null,
   "metadata": {
    "scrolled": true
   },
   "outputs": [],
   "source": [
    "R[1:2,1:2]"
   ]
  },
  {
   "cell_type": "markdown",
   "metadata": {},
   "source": [
    "Pregunta si la matriz\n",
    "$A= \\begin{pmatrix}1 & 10 \\\\ 100 & 1000\\end{pmatrix}$\n",
    "es $\\begin{pmatrix}r_{1,1} & r_{1,2} \\\\ r_{2,1} & r_{2,2}\\end{pmatrix}$"
   ]
  },
  {
   "cell_type": "code",
   "execution_count": null,
   "metadata": {},
   "outputs": [],
   "source": [
    "A = [1 10\n",
    "     100 1000]\n",
    "A == R[1:2,1:2]"
   ]
  },
  {
   "cell_type": "markdown",
   "metadata": {},
   "source": [
    "La comparación elemento a elemento entre dos matrices se realiza con el operador `.` seguido de la comparación deseada. Por ejemplo, para verificar si dos matrices `A` y `B` son iguales en cada elemento, se puede utilizar la expresión `A .== B`. Esta expresión devolverá una matriz de valores booleanos, donde cada elemento será true si el elemento correspondiente de `A` es igual al elemento correspondiente de `B`, y false en caso contrario."
   ]
  },
  {
   "cell_type": "code",
   "execution_count": null,
   "metadata": {},
   "outputs": [],
   "source": [
    "A .== R[1:2,1:2]"
   ]
  },
  {
   "cell_type": "markdown",
   "metadata": {},
   "source": [
    "Reemplaza las componentes de $R$ iguales a 1000 por cero usando `.==`"
   ]
  },
  {
   "cell_type": "code",
   "execution_count": null,
   "metadata": {
    "scrolled": true
   },
   "outputs": [],
   "source": [
    "R"
   ]
  },
  {
   "cell_type": "code",
   "execution_count": null,
   "metadata": {},
   "outputs": [],
   "source": [
    "R[ R .== 1000] .= 0\n",
    "R"
   ]
  },
  {
   "cell_type": "markdown",
   "metadata": {},
   "source": [
    "En Julia, el operador para representar la desigualdad es `≠`\n",
    "- Usa la combinación `\\ne` + `TAB` para obtener `≠`\n",
    "\n",
    "Por ejemplo, si queremos verificar si `a` es diferente de `b`, podemos escribir:\n",
    "```Julia\n",
    "a ≠ b\n",
    "```\n",
    "Devuele `true` si `a` y `b` son diferentes, y `false` en caso contrario.\n",
    "\n",
    "\n",
    "Verificar si $R_{2,2}\\neq 100$ usando `≠`:"
   ]
  },
  {
   "cell_type": "code",
   "execution_count": null,
   "metadata": {},
   "outputs": [],
   "source": [
    "R[2,2] ≠ 1000"
   ]
  },
  {
   "cell_type": "markdown",
   "metadata": {},
   "source": [
    "También podemos usar `!=` "
   ]
  },
  {
   "cell_type": "code",
   "execution_count": null,
   "metadata": {},
   "outputs": [],
   "source": [
    "R[2,2] != 1000"
   ]
  },
  {
   "cell_type": "markdown",
   "metadata": {},
   "source": [
    "Las comparaciones `>=` y `<=` se utilizan en Julia para verificar si un valor es mayor o igual que otro valor y si un valor es menor o igual que otro valor, respectivamente.\n",
    "- Usa la combinación `\\le` + `TAB` para obtener `≤`\n",
    "- Usa la combinación `\\ge` + `TAB`  para obtener `≥`\n",
    "\n",
    "Sea **r** número entero aleatorio entre 0 y 10.  Pregunta si $r\\leq 5$.\n"
   ]
  },
  {
   "cell_type": "code",
   "execution_count": null,
   "metadata": {},
   "outputs": [],
   "source": [
    "r = rand(0:10)"
   ]
  },
  {
   "cell_type": "code",
   "execution_count": null,
   "metadata": {},
   "outputs": [],
   "source": [
    "r ≤ 5"
   ]
  },
  {
   "cell_type": "markdown",
   "metadata": {},
   "source": [
    "### [Operadores lógicos](#contenidos) <a name=\"U3S1S3\"></a>"
   ]
  },
  {
   "cell_type": "markdown",
   "metadata": {},
   "source": [
    "En Julia, los operadores lógicos son `&&` para el operador \"y\" (and) y `||` para el operador \"o\" (or).\n",
    "\n",
    "También se puede usar la sintaxis de palabras clave `and` y `or` en lugar de los operadores `&&` y `||`, respectivamente."
   ]
  },
  {
   "cell_type": "markdown",
   "metadata": {},
   "source": [
    "<font color = blue>**Y**</font>\n",
    "\n",
    "El operador \"y\" (`&&`) devuelve `true` si y solo si ambas expresiones que están a ambos lados del operador son verdaderas. De lo contrario, devuelve `false`.\n",
    "\n",
    "sintaxis\n",
    "```julia\n",
    "(condición1) && (condición2) && (condición3)\n",
    "\n",
    "(condición1) & (condición2) & (condición3)\n",
    "```\n",
    "\n",
    "En Julia, `&` y `&&` son operadores lógicos de \"y\" (and), pero tienen algunas diferencias en su comportamiento.\n",
    "\n",
    "`&` evalúa ambas condiciones, independientemente de si la primera es suficiente para determinar el resultado. Por ejemplo, si se tiene `cond1 & cond2` y `cond1` es falso, de todas formas se evalúa `cond2`.\n",
    "\n",
    "Por otro lado, `&&` utiliza un cortocircuito, es decir, si la primera condición es suficiente para determinar el resultado, no se evalúa la segunda. Por ejemplo, si se tiene `cond1 && cond2` y `cond1` es falso, `cond2` no se evalúa ya que el resultado final de la expresión será falso."
   ]
  },
  {
   "cell_type": "markdown",
   "metadata": {},
   "source": [
    "Ejemplo:\n",
    "\n",
    "Pregunta si 9 y 28 están en el arreglo `C` con `&`"
   ]
  },
  {
   "cell_type": "code",
   "execution_count": null,
   "metadata": {},
   "outputs": [],
   "source": [
    "( 9 ∈ C ) & ( 28 ∈ C )"
   ]
  },
  {
   "cell_type": "markdown",
   "metadata": {},
   "source": [
    "<font color = blue>**O**</font>\n",
    "\n",
    "El operador \"o\" (`||`) devuelve `true` si al menos una de las expresiones a ambos lados del operador es verdadera. De lo contrario, devuelve `false`.\n",
    "\n",
    "1ra sintaxis\n",
    "```julia\n",
    "(condición1) || (condición2) || (condición3)\n",
    "(condición1) | (condición2) | (condición3)\n",
    "```\n",
    "\n",
    "2da sintaxis\n",
    "```julia\n",
    "||(condición1, condición2, condición3)\n",
    "|(condición1, condición2, condición3)\n",
    "```\n",
    "\n",
    "En Julia, el operador `||` es una versión cortocircuito del operador `|`."
   ]
  },
  {
   "cell_type": "markdown",
   "metadata": {},
   "source": [
    "Ejemplo:\n",
    "\n",
    "Pregunta si 40 o 17 o 23 están en el arreglo `C` con `|`"
   ]
  },
  {
   "cell_type": "code",
   "execution_count": null,
   "metadata": {},
   "outputs": [],
   "source": [
    "C = rand(0:50,5,5)"
   ]
  },
  {
   "cell_type": "code",
   "execution_count": null,
   "metadata": {},
   "outputs": [],
   "source": [
    "( 40 ∈ C ) | ( 17 ∈ C ) | ( 23 ∈ C ) "
   ]
  },
  {
   "cell_type": "code",
   "execution_count": null,
   "metadata": {},
   "outputs": [],
   "source": [
    "|( 40 ∈ C, 17 ∈ C, 23 ∈ C )"
   ]
  },
  {
   "cell_type": "markdown",
   "metadata": {},
   "source": [
    "### [IF, ELSE, ELSEIF](#contenidos) <a name=\"U3S1S4\"></a>"
   ]
  },
  {
   "cell_type": "markdown",
   "metadata": {},
   "source": [
    "#### Condicional `if`\n",
    "El condicional `if` se usa para ejecutar un bloque de código solo si una expresión es verdadera. \n",
    "\n",
    "Síntaxis \n",
    "\n",
    "En una línea\n",
    "\n",
    "```julia\n",
    "if condición instrucciones; end\n",
    "```\n",
    "\n",
    "En varias líneas\n",
    "\n",
    "```julia\n",
    "if condición\n",
    "    instrucciones\n",
    "end\n",
    "```\n",
    "\n",
    "Como operador ternario\n",
    "\n",
    "```julia \n",
    "(condición) && (instrucción)\n",
    "```\n",
    "\n",
    "Donde `condición` es una expresión que puede evaluar a true o false. Si condicion es verdadera, se ejecuta el código dentro del bloque `if`.\n",
    "\n",
    "Por ejemplo:"
   ]
  },
  {
   "cell_type": "code",
   "execution_count": null,
   "metadata": {},
   "outputs": [],
   "source": [
    "r = rand([\"J\",\"U\",\"L\",\"I\",\"A\"])"
   ]
  },
  {
   "cell_type": "code",
   "execution_count": null,
   "metadata": {},
   "outputs": [],
   "source": [
    "if r == \"L\" println(\"$r\"); end"
   ]
  },
  {
   "cell_type": "code",
   "execution_count": null,
   "metadata": {},
   "outputs": [],
   "source": [
    "if r == \"L\" \n",
    "    println(\"$r\")\n",
    "end"
   ]
  },
  {
   "cell_type": "code",
   "execution_count": null,
   "metadata": {},
   "outputs": [],
   "source": [
    "(r == \"L\") && (println(\"$r\"));"
   ]
  },
  {
   "cell_type": "markdown",
   "metadata": {},
   "source": [
    "También se puede utilizar la cláusula `else` para ejecutar un bloque de código alternativo si la condición es falsa. La sintaxis es la siguiente:\n",
    "\n",
    "Síntaxis\n",
    "\n",
    "\n",
    "```julia\n",
    "if condición\n",
    "    instrucciones 1\n",
    "else\n",
    "    instrucciones 2\n",
    "end\n",
    "```\n",
    "\n",
    "Síntaxis como operador ternario\n",
    "\n",
    "```julia \n",
    "condición ? instrucción 1 : instrucción 2\n",
    "```\n",
    "\n",
    "Por ejemplo:"
   ]
  },
  {
   "cell_type": "code",
   "execution_count": null,
   "metadata": {},
   "outputs": [],
   "source": [
    "if |(r == \"L\", r == \"A\")  \n",
    "    println(\"acertaste\\nvalor de variable = $r\") \n",
    "else \n",
    "    println(\"fallaste\")\n",
    "end"
   ]
  },
  {
   "cell_type": "code",
   "execution_count": null,
   "metadata": {},
   "outputs": [],
   "source": [
    " |(r == \"L\",r == \"A\")  ?  println(\"acertaste\\nvalor de variable = $r\") : println(\"fallaste\")"
   ]
  },
  {
   "cell_type": "markdown",
   "metadata": {},
   "source": [
    "Por ejemplo:\n",
    "\n",
    "`Sys.total_memory()` es una función en Julia que devuelve la cantidad total de memoria disponible en el sistema. \n",
    "\n",
    "El valor devuelto está en bytes: "
   ]
  },
  {
   "cell_type": "code",
   "execution_count": null,
   "metadata": {},
   "outputs": [],
   "source": [
    "ram = Sys.total_memory()\n",
    "ram = ram*1.0"
   ]
  },
  {
   "cell_type": "markdown",
   "metadata": {},
   "source": [
    "* Si $\\quad 2GB < \\text{ram} \\leq 4GB, \\quad$  imprime mi RAM es de 4 GB; \n",
    "\n",
    "  en otro caso la muestra el valor de ram en GB con `@sprintf` usando `%1.0f` y `println` \n",
    "  "
   ]
  },
  {
   "cell_type": "code",
   "execution_count": null,
   "metadata": {},
   "outputs": [],
   "source": [
    "using Printf"
   ]
  },
  {
   "cell_type": "code",
   "execution_count": null,
   "metadata": {},
   "outputs": [],
   "source": [
    "ram = ram/2^30"
   ]
  },
  {
   "cell_type": "code",
   "execution_count": null,
   "metadata": {},
   "outputs": [],
   "source": [
    "if (2 < ram) && (ram <= 4)\n",
    "    s = @sprintf \"Mi RAM es de 4GB\"\n",
    "else\n",
    "    s = @sprintf \"Mi RAM es de %1.0f GB\" ram\n",
    "end\n",
    "println(s)"
   ]
  },
  {
   "cell_type": "markdown",
   "metadata": {},
   "source": [
    "En Julia `elseif` es una sintaxis que permite agregar más de una condición a una estructura condicional `if-else`.\n",
    "\n",
    "Sintaxis\n",
    "\n",
    "```julia\n",
    "if *condiciones 1*\n",
    "    *instrucciones 1*\n",
    "elseif *condiciones 2*\n",
    "    *instrucciones 2*\n",
    "else\n",
    "    *instrucciones 3*\n",
    "end\n",
    "```\n",
    "Por ejemplo:"
   ]
  },
  {
   "cell_type": "code",
   "execution_count": null,
   "metadata": {},
   "outputs": [],
   "source": [
    "num_x = 5\n",
    "\n",
    "if num_x < 0\n",
    "    println(\"num_x es negativo\")\n",
    "elseif num_x == 0\n",
    "    println(\"num_x es igual a cero\")\n",
    "else\n",
    "    println(\"num_x es positivo\")\n",
    "end"
   ]
  },
  {
   "cell_type": "markdown",
   "metadata": {},
   "source": [
    "En este ejemplo, si `num_x` es menor que cero se imprime `\"num_x es negativo\"`. Si no lo es, se evalúa la siguiente condición en la cláusula `elseif`, que es si `num_x` es igual a cero. Si `num_x` no es menor que cero ni igual a cero, se ejecuta la cláusula `else`."
   ]
  },
  {
   "cell_type": "markdown",
   "metadata": {},
   "source": [
    "## [CICLOS](#contenidos) <a name=\"U3S2\"></a>"
   ]
  },
  {
   "cell_type": "markdown",
   "metadata": {},
   "source": [
    "### [WHILE](#contenidos) <a name=\"U3S2S1\"></a>\n",
    "\n",
    "El ciclo `while` se utiliza para repetir un bloque de código mientras una condición sea verdadera. La sintaxis es la siguiente:\n",
    "\n",
    "\n",
    "```julia\n",
    "while condición\n",
    "      instrucciones\n",
    "end\n",
    "```\n",
    "Donde `condicion` es una expresión que se evalúa en cada iteración del ciclo. Si condicion es verdadera, se ejecuta el código dentro del bloque `while`. El ciclo se repite hasta que `condicion` sea falsa.\n",
    "\n",
    "Por ejemplo:\n",
    "- inicializa variable y contador"
   ]
  },
  {
   "cell_type": "code",
   "execution_count": null,
   "metadata": {},
   "outputs": [],
   "source": [
    "x = 1.0; contador = 0; tmp = 0.0;"
   ]
  },
  {
   "cell_type": "markdown",
   "metadata": {},
   "source": [
    "* crea bucle para aumentar el valor de `x` por su doble\n",
    "\n",
    "    1. actualiza variable `tmp` para guardar el valor anterior de `x`\n",
    "\n",
    "    2. actualiza `x`\n",
    "    \n",
    "    3. aumenta `contador` en 1 por cada paso\n",
    "\n",
    "    4. en cada paso muestra el valor de `x` y de `contador`\n",
    "\n",
    "*  deten el bucle cuando ya NO se cumpla `x` > `tmp`"
   ]
  },
  {
   "cell_type": "code",
   "execution_count": null,
   "metadata": {},
   "outputs": [],
   "source": [
    "while x > tmp\n",
    "    println(\"$contador  $x\")\n",
    "    tmp = copy(x)\n",
    "    x = 2.0*x\n",
    "    contador += 1\n",
    "end  "
   ]
  },
  {
   "cell_type": "markdown",
   "metadata": {},
   "source": [
    "¿Sabes por qué se detiene este ciclo?\n",
    "\n",
    "> El ciclo se detiene porque en algún punto el valor de `x` se vuelve infinito al ser demasiado grande para ser representado por un número de punto flotante. En Julia, el valor de `Inf` se usa para representar el infinito positivo."
   ]
  },
  {
   "cell_type": "markdown",
   "metadata": {},
   "source": [
    "### [FOR](#contenidos) <a name=\"U3S2S2\"></a>\n",
    "\n",
    "El ciclo `for` se utiliza para iterar sobre una colección de elementos. \n",
    "\n",
    "La sintaxis es la siguiente:\n",
    "```julia\n",
    "for variable in iterable\n",
    "    instrucciones\n",
    "end\n",
    "```\n",
    "- Puedes cambiar `in` por `∈`\n",
    "- El iterable toma el valor de cada elemento de colección en cada iteración. La colección puede ser un rango, un arreglo, un conjunto, un diccionario, entre otros."
   ]
  },
  {
   "cell_type": "markdown",
   "metadata": {},
   "source": [
    "Por ejemplo:\n",
    "\n",
    "- El comando  `Pkg.installed()` regresa un diccionario con la lista de paquetes instalados y su correspondiente versión.\n",
    "- Use ciclo **for** para mostrar la lista completa de paquetes instalados sin las versiones"
   ]
  },
  {
   "cell_type": "code",
   "execution_count": null,
   "metadata": {},
   "outputs": [],
   "source": [
    "using Pkg"
   ]
  },
  {
   "cell_type": "code",
   "execution_count": null,
   "metadata": {},
   "outputs": [],
   "source": [
    "Lista = Pkg.installed()"
   ]
  },
  {
   "cell_type": "code",
   "execution_count": null,
   "metadata": {},
   "outputs": [],
   "source": [
    "for paquetes ∈ Lista\n",
    "    println(paquetes[1])\n",
    "end"
   ]
  },
  {
   "cell_type": "markdown",
   "metadata": {},
   "source": [
    "Podemos usar ciclo **for** para generar algunas matrices\n",
    "\n",
    "Por ejemplo:\n",
    "\n",
    "Crea la matriz  $$t_{i,j} \\ = \\ j-i, \\quad i,j=1,\\dots,5$$"
   ]
  },
  {
   "cell_type": "code",
   "execution_count": null,
   "metadata": {},
   "outputs": [],
   "source": [
    "T = [ j-i for i in 1:5, j in 1:5 ]"
   ]
  },
  {
   "cell_type": "markdown",
   "metadata": {},
   "source": [
    "¿qué pasa si cambia el orden de los índices?"
   ]
  },
  {
   "cell_type": "code",
   "execution_count": null,
   "metadata": {},
   "outputs": [],
   "source": [
    "T = [ i-j for i in 1:5, j in 1:5 ]"
   ]
  },
  {
   "cell_type": "markdown",
   "metadata": {},
   "source": [
    "#### @elapsed"
   ]
  },
  {
   "cell_type": "markdown",
   "metadata": {},
   "source": [
    "* El macro @elapsed se utiliza para medir el tiempo que tarda una instrucción en ejecutarse. La sintaxis básica es `@elapsed expr`, donde `expr` es la expresión o instrucción a medir.\n",
    "\n",
    "Por ejemplo:\n",
    "\n",
    "- Crea un vector `r` de `n = 10000` elementos aleatorios.\n",
    "- Llena una matriz de `n×n` de modo que cada renglón o columna sea el mismo vector aleatorio `r`."
   ]
  },
  {
   "cell_type": "markdown",
   "metadata": {},
   "source": [
    "Creamos el vector `r`:"
   ]
  },
  {
   "cell_type": "code",
   "execution_count": null,
   "metadata": {},
   "outputs": [],
   "source": [
    "n = 10000; r = rand(n);"
   ]
  },
  {
   "cell_type": "markdown",
   "metadata": {},
   "source": [
    "Hacemos una pre alocación de memoria para un arreglo de `n×n` sin inicialización"
   ]
  },
  {
   "cell_type": "code",
   "execution_count": null,
   "metadata": {},
   "outputs": [],
   "source": [
    "A₁ = Array{Float64, 2}(undef, n, n); "
   ]
  },
  {
   "cell_type": "markdown",
   "metadata": {},
   "source": [
    "Llena una matriz de modo que cada **renglón** es el mismo vector aleatorio **r**"
   ]
  },
  {
   "cell_type": "code",
   "execution_count": null,
   "metadata": {},
   "outputs": [],
   "source": [
    "@elapsed for i ∈ 1:n A₁[i, :] = r; end"
   ]
  },
  {
   "cell_type": "markdown",
   "metadata": {},
   "source": [
    "Ahora, llena una matriz de modo que cada **columna** sea **r**"
   ]
  },
  {
   "cell_type": "code",
   "execution_count": null,
   "metadata": {},
   "outputs": [],
   "source": [
    "A₂ = Array{Float64, 2}(undef, n, n);\n",
    "@elapsed for j ∈ 1:n A₂[:,j] = r; end"
   ]
  },
  {
   "cell_type": "markdown",
   "metadata": {},
   "source": [
    "Podemos hacerlo usando el comando `repeat` para llenar una matriz de modo que cada columna sea **r**"
   ]
  },
  {
   "cell_type": "code",
   "execution_count": null,
   "metadata": {},
   "outputs": [],
   "source": [
    "A₃ = Array{Float64, 2}(undef, n, n); \n",
    "@elapsed A₃ = repeat(r, 1, n)"
   ]
  },
  {
   "cell_type": "markdown",
   "metadata": {},
   "source": [
    "> MUY IMPORTANTE: En Julia, es más rápido acceder al segundo índice de un arreglo 2D en lugar del primero. Esto se debe a que Julia almacena los arreglos en columnas, lo que significa que la memoria se organiza en columnas. Por lo tanto, acceder a la columna completa es más eficiente que acceder a la fila completa, ya que esto requiere menos operaciones de memoria y puede aprovechar la caché de memoria de manera más efectiva."
   ]
  },
  {
   "cell_type": "markdown",
   "metadata": {},
   "source": [
    "# [<font color=blue>Operaciones y Funciones</font>](#contenidos) <a name=\"U4\"></a>\n",
    "Las operaciones en Julia funcionan de manera similar a otros lenguajes de programación. \n",
    "\n",
    "Podemos realizar operaciones con variables numéricas, arreglos de números, matrices y cadenas.\n",
    "\n",
    "## [Operaciones](#contenidos) <a name=\"U4S1\"></a>\n",
    "\n",
    "### [Operaciones con variables numéricas](#contenidos) <a name=\"U4S1S1\"></a>"
   ]
  },
  {
   "cell_type": "markdown",
   "metadata": {},
   "source": [
    "Podemos realizar las operaciones aritméticas básicas, como la suma (`+`), la resta (`-`), la multiplicación (`*`) y la división (`/`) en Julia. También podemos usar los operadores de potencia (`^`) y residuo (`%`).\n",
    "\n",
    "\n",
    "\n",
    "Por ejemplo:\n",
    "\n",
    "La fórmula cuadrática"
   ]
  },
  {
   "cell_type": "code",
   "execution_count": null,
   "metadata": {},
   "outputs": [],
   "source": [
    "a = 1; b = 5; c = 6\n",
    "s = ( -b + (b^2 - 4a*c)^0.5 )/2a"
   ]
  },
  {
   "cell_type": "markdown",
   "metadata": {},
   "source": [
    "Nota que basta escribir \n",
    "\n",
    "```julia \n",
    "   2variable\n",
    "``` \n",
    "en vez de \n",
    "\n",
    "```julia \n",
    "   2*variable\n",
    "```\n",
    "   \n",
    "lo mismo para cualquier otra cifra "
   ]
  },
  {
   "cell_type": "markdown",
   "metadata": {},
   "source": [
    "### [Operaciones entre arreglos de números](#contenidos) <a name=\"U4S1S2\"></a>\n",
    "\n",
    "Podemos realizar operaciones entre arreglos de números en Julia. \n",
    "\n",
    "En este caso, las operaciones se realizan elemento por elemento."
   ]
  },
  {
   "cell_type": "markdown",
   "metadata": {},
   "source": [
    "Síntaxis para operaciones elemento a elemento\n",
    "\n",
    "\n",
    "- exponenciación  \n",
    "```julia \n",
    "arreglo1.^2\n",
    "```\n",
    "\n",
    "- multiplicación  \n",
    "```julia \n",
    "arreglo1 .* arreglo2\n",
    "```\n",
    "\n",
    "- división \n",
    "```julia \n",
    "arreglo1 ./ arreglo2\n",
    "```\n",
    "\n",
    "- residuo \n",
    "\n",
    "```julia \n",
    "arreglo1 .% arreglo2\n",
    "```\n",
    "\n",
    "- `+` y `-`   no requieren `.`\n",
    "\n",
    "Por ejemplo:\n",
    "\n",
    "Potencia elemento a elemento"
   ]
  },
  {
   "cell_type": "code",
   "execution_count": null,
   "metadata": {},
   "outputs": [],
   "source": [
    "nume1 = [101.1 253.3 π 3//4]"
   ]
  },
  {
   "cell_type": "code",
   "execution_count": null,
   "metadata": {},
   "outputs": [],
   "source": [
    "nume1.^2"
   ]
  },
  {
   "cell_type": "markdown",
   "metadata": {},
   "source": [
    "### [Operaciones entre matrices](#contenidos) <a name=\"U4S1S3\"></a>\n",
    "\n",
    "Podemos realizar operaciones entre matrices en Julia. \n",
    "\n",
    "En este caso, las operaciones se realizan elemento por elemento."
   ]
  },
  {
   "cell_type": "markdown",
   "metadata": {},
   "source": [
    "Síntaxis para operaciones entre matrices\n",
    "\n",
    "- Transpuesta conjugada\n",
    "```julia \n",
    " arreglo2D'\n",
    " ```\n",
    " \n",
    "- Potencias de matrices\n",
    "```julia \n",
    " arreglo2D^2\n",
    "``` \n",
    "\n",
    "- Producto de matrices\n",
    "\n",
    "  NOTA: Los tamaños deben empatar\n",
    "  \n",
    "```julia \n",
    " arreglo2D * arreglo2D\n",
    "\n",
    " arreglo2D * arreglo1D\n",
    "```\n",
    " \n"
   ]
  },
  {
   "cell_type": "markdown",
   "metadata": {},
   "source": [
    "Por ejemplo:\n",
    "\n",
    "Matriz de rango uno"
   ]
  },
  {
   "cell_type": "code",
   "execution_count": null,
   "metadata": {},
   "outputs": [],
   "source": [
    "u = collect(1:15);"
   ]
  },
  {
   "cell_type": "code",
   "execution_count": null,
   "metadata": {},
   "outputs": [],
   "source": [
    "v = collect(2:2:30);"
   ]
  },
  {
   "cell_type": "code",
   "execution_count": null,
   "metadata": {},
   "outputs": [],
   "source": [
    "C = u*v'"
   ]
  },
  {
   "cell_type": "markdown",
   "metadata": {},
   "source": [
    "Por ejemplo:\n",
    "\n",
    "Producto punto (matricial)"
   ]
  },
  {
   "cell_type": "code",
   "execution_count": null,
   "metadata": {},
   "outputs": [],
   "source": [
    "v'*u"
   ]
  },
  {
   "cell_type": "markdown",
   "metadata": {},
   "source": [
    "Por ejemplo:\n",
    "\n",
    "Polinomio de matrices"
   ]
  },
  {
   "cell_type": "code",
   "execution_count": null,
   "metadata": {},
   "outputs": [],
   "source": [
    "C^3 + 2C^2 + 5C .+ 6 "
   ]
  },
  {
   "cell_type": "markdown",
   "metadata": {},
   "source": [
    "Por ejemplo:\n",
    "\n",
    "- Resuelve sistema de ecuaciones lineales\n",
    " ```julia \n",
    " arreglo2D \\ arreglo1D\n",
    " ```"
   ]
  },
  {
   "cell_type": "markdown",
   "metadata": {},
   "source": [
    "Sistema de ecuaciones lineales $$Ax=b$$"
   ]
  },
  {
   "cell_type": "code",
   "execution_count": null,
   "metadata": {},
   "outputs": [],
   "source": [
    "A = rand(5,5)\n",
    "b = ones(5)\n",
    "x = A\\b"
   ]
  },
  {
   "cell_type": "markdown",
   "metadata": {},
   "source": [
    "### [Operaciones entre cadenas](#contenidos) <a name=\"U4S1S4\"></a>\n",
    "\n",
    "En Julia se pueden realizar operaciones entre cadenas de texto, tal como la concatenación y la repetición:\n",
    "\n",
    "concatenación\n",
    "\n",
    "```julia \n",
    "cadena1 * cadena2 * cadena3\n",
    "```\n",
    "\n",
    "repite y concatena\n",
    "\n",
    "```julia \n",
    "cadena^2\n",
    "```\n",
    "\n",
    "Es importante mencionar que en Julia, las cadenas de texto se tratan como vectores de caracteres, por lo que se pueden utilizar muchas de las mismas funciones y operaciones que se utilizan con vectores."
   ]
  },
  {
   "cell_type": "code",
   "execution_count": null,
   "metadata": {},
   "outputs": [],
   "source": [
    "cadena = \"abc\"\n",
    "repetido = cadena^3  "
   ]
  },
  {
   "cell_type": "markdown",
   "metadata": {},
   "source": [
    "## [Funciones](#contenidos) <a name=\"U4S2\"></a>\n",
    "\n",
    "Son objetos que reciben una tupla de argumentos y devuelven un valor."
   ]
  },
  {
   "cell_type": "markdown",
   "metadata": {},
   "source": [
    "### [Algunas funciones matemáticas predefinidas](#contenidos) <a name=\"U4S2S1\"></a>\n",
    "\n",
    "Julia tiene una variedad de funciones matemáticas predefinidas. Algunas de estas funciones son:\n",
    "\n",
    "trigonométricas como `sin`, `cos`, `tan`, `asin`,\n",
    "\n",
    "exponencial `exp`, logarítmo `log`, \n",
    "\n",
    "raíz cuadrada `sqrt` , valor absoluto `abs`,\n",
    " \n",
    "piso `floor`, techo `ceil` y muchas más\n"
   ]
  },
  {
   "cell_type": "markdown",
   "metadata": {},
   "source": [
    "### [Algunas funciones para arreglos](#contenidos) <a name=\"U4S2S2\"></a>\n",
    "\n",
    "Julia también tiene una variedad de funciones para trabajar con arreglos. \n",
    "\n",
    "Algunas de estas funciones incluyen `sum()`, `prod()`, `minimum()`, `maximum`, que permiten calcular, respectivamente, la suma, el producto, el valor mínimo y el valor máximo de los elementos de un arreglo o `length()` y `sort()` para obtener la longitud de un arreglo y para ordenar los elementos de un arreglo, respectivamente. "
   ]
  },
  {
   "cell_type": "code",
   "execution_count": null,
   "metadata": {},
   "outputs": [],
   "source": [
    "sum([5, 3, 4, 1])"
   ]
  },
  {
   "cell_type": "code",
   "execution_count": null,
   "metadata": {},
   "outputs": [],
   "source": [
    "length([5, 3, 4, 1])"
   ]
  },
  {
   "cell_type": "code",
   "execution_count": null,
   "metadata": {},
   "outputs": [],
   "source": [
    "sort([5, 3, 4, 1])"
   ]
  },
  {
   "cell_type": "code",
   "execution_count": null,
   "metadata": {},
   "outputs": [],
   "source": [
    "prod([5, 3, 4, 1])"
   ]
  },
  {
   "cell_type": "code",
   "execution_count": null,
   "metadata": {},
   "outputs": [],
   "source": [
    "minimum([5, 3, 4, 1])"
   ]
  },
  {
   "cell_type": "code",
   "execution_count": null,
   "metadata": {},
   "outputs": [],
   "source": [
    "maximum([5, 3, 4, 1])"
   ]
  },
  {
   "cell_type": "markdown",
   "metadata": {},
   "source": [
    "### [Define tus propias funciones](#contenidos) <a name=\"U4S2S3\"></a>\n",
    "\n",
    "Es posible definir funciones en Julia especificando una fórmula matemática para el cálculo de su resultado. \n",
    "\n",
    "Sintaxis para funciones especificadas por fórmula:\n",
    "\n",
    "```julia \n",
    "nombre_función(variable1) = fórmula en variable1 \n",
    "```\n",
    "\n",
    "Por ejemplo:"
   ]
  },
  {
   "cell_type": "code",
   "execution_count": null,
   "metadata": {},
   "outputs": [],
   "source": [
    "f₁(x) = x^2 +1 "
   ]
  },
  {
   "cell_type": "code",
   "execution_count": null,
   "metadata": {},
   "outputs": [],
   "source": [
    "f₁(10)"
   ]
  },
  {
   "cell_type": "markdown",
   "metadata": {},
   "source": [
    "Sintaxis para funciones anónimas:\n",
    "\n",
    "```julia\n",
    "variable1 -> fórmula en variable1\n",
    "```\n",
    "\n",
    "Por ejemplo:"
   ]
  },
  {
   "cell_type": "code",
   "execution_count": null,
   "metadata": {},
   "outputs": [],
   "source": [
    "f₂ = x -> x^2 "
   ]
  },
  {
   "cell_type": "code",
   "execution_count": null,
   "metadata": {},
   "outputs": [],
   "source": [
    "f₂(10)"
   ]
  },
  {
   "cell_type": "markdown",
   "metadata": {},
   "source": [
    "La función `f₁` se define utilizando la sintaxis de función normal (`f₁(x) = x^2`), donde el nombre de la función es `f₁(x)` y toma un argumento `x`. Esta sintaxis es más común en la definición de funciones más complejas o funciones que se usarán en varias partes del código.\n",
    "\n",
    "La función `f₂` se define utilizando una sintaxis de función anónima `(x -> x^2)` que crea una función sin nombre que toma un argumento `x` y devuelve el cuadrado de `x`. Esta sintaxis se utiliza comúnmente para definir funciones simples en una sola línea."
   ]
  },
  {
   "cell_type": "markdown",
   "metadata": {},
   "source": [
    "Al definir una función, se pueden utilizar variables adicionales en la fórmula, siempre y cuando se definan antes de llamar a la función. \n",
    "\n",
    "También es importante tener en cuenta que si cambia el valor de una variable utilizada en la función, esto puede afectar el resultado que devuelve la función.\n",
    "\n",
    "Por ejemplo:"
   ]
  },
  {
   "cell_type": "code",
   "execution_count": null,
   "metadata": {},
   "outputs": [],
   "source": [
    "c₁ = 2; c₂ = 10\n",
    "f₃(x) = x^c₁ + c₂\n",
    "f₃(5.5)"
   ]
  },
  {
   "cell_type": "markdown",
   "metadata": {},
   "source": [
    "Si cambia el valor de una variable en la función,\n",
    "\n",
    "también cambia el resultado que regresa"
   ]
  },
  {
   "cell_type": "code",
   "execution_count": null,
   "metadata": {},
   "outputs": [],
   "source": [
    "c₂ = 20\n",
    "f₃(5.5)"
   ]
  },
  {
   "cell_type": "markdown",
   "metadata": {},
   "source": [
    "Trata de aplicar la  función `f₃` al  arreglo `[-1, 0, 1]`"
   ]
  },
  {
   "cell_type": "code",
   "execution_count": null,
   "metadata": {},
   "outputs": [],
   "source": [
    "f₃([-1, 0, 1])"
   ]
  },
  {
   "cell_type": "markdown",
   "metadata": {},
   "source": [
    "### [Map](#contenidos) <a name=\"U4S2S4\"></a>"
   ]
  },
  {
   "cell_type": "markdown",
   "metadata": {},
   "source": [
    "`map` es una función de orden superior en Julia que devuelve un nuevo arreglo con los resultados de aplicar una `función` a cada elemento del `iterable`.\n",
    "\n",
    "La sintaxis es:\n",
    "```Julia\n",
    "map(función, iterable)\n",
    "```\n",
    "donde `función` es la función que se aplicará a cada elemento del `iterable`, y el `iterable` se recorrerá elemento por elemento."
   ]
  },
  {
   "cell_type": "code",
   "execution_count": null,
   "metadata": {},
   "outputs": [],
   "source": [
    "map(f₃, [-1, 0, 1])"
   ]
  },
  {
   "cell_type": "markdown",
   "metadata": {},
   "source": [
    "`map` también puede recibir funciones anónimas:"
   ]
  },
  {
   "cell_type": "code",
   "execution_count": null,
   "metadata": {},
   "outputs": [],
   "source": [
    "map(x -> x^2, 1:10)"
   ]
  },
  {
   "cell_type": "markdown",
   "metadata": {},
   "source": [
    "`map` es útil porque permite aplicar una función de forma vectorizada, en lugar de tener que iterar manualmente sobre cada elemento del iterable. Esto puede ser más eficiente en términos de velocidad y memoria, especialmente para iterables grandes."
   ]
  },
  {
   "cell_type": "markdown",
   "metadata": {},
   "source": [
    "Ejemplo:\n",
    "\n",
    "Por cada elemento en la tupla de números `(-5, 0, π)` usa la aplicación:\n",
    "\n",
    "$$ x \\mapsto \n",
    "\\begin{cases}\n",
    " \\sqrt x + 1, & \\text{si } x >0; \\\\\n",
    " x +1, & \\text{en otro caso}\n",
    "\\end{cases} $$"
   ]
  },
  {
   "cell_type": "code",
   "execution_count": null,
   "metadata": {},
   "outputs": [],
   "source": [
    "map(x -> (x > 0) ? √x + 1 : x + 1, (-5, 0, π)) "
   ]
  },
  {
   "cell_type": "markdown",
   "metadata": {},
   "source": [
    "### [Broadcasting](#contenidos) <a name=\"U4S2S5\"></a>"
   ]
  },
  {
   "cell_type": "markdown",
   "metadata": {},
   "source": [
    "`Broadcasting` es una extensión de funciones para trabajar con elementos de matrices y vectores de manera más eficiente.\n",
    "Extiende las funciones para que reciban tuplas o arreglos usando la sintaxis:\n",
    "\n",
    "Con la sintaxis\n",
    "```julia \n",
    "función.(A)\n",
    "```\n",
    "se aplicará la función `f` a cada elemento de `A` en lugar de aplicarla a la matriz en su totalidad. Esto evita la necesidad de usar ciclos explícitos.\n",
    "\n",
    "\n",
    "Por ejemplo:\n",
    "\n",
    "Evalua los elementos del arreglo\n",
    "\n",
    "```julia\n",
    "a = [-5  -1//2  2.5  1e4]\n",
    "```\n",
    "usando la aplicación $x \\mapsto \\sqrt|x| +1$ "
   ]
  },
  {
   "cell_type": "code",
   "execution_count": null,
   "metadata": {},
   "outputs": [],
   "source": [
    "array = [-5  -1//2  2.5  1e4]"
   ]
  },
  {
   "cell_type": "code",
   "execution_count": null,
   "metadata": {},
   "outputs": [],
   "source": [
    "f = x -> sqrt(abs(x)) +1"
   ]
  },
  {
   "cell_type": "code",
   "execution_count": null,
   "metadata": {},
   "outputs": [],
   "source": [
    "f.(array)"
   ]
  },
  {
   "cell_type": "markdown",
   "metadata": {},
   "source": [
    "### [Sintaxis general](#contenidos) <a name=\"U4S2S6\"></a>"
   ]
  },
  {
   "cell_type": "markdown",
   "metadata": {},
   "source": [
    "Sintaxis más general para funciones\n",
    "\n",
    "```julia \n",
    " function nombre(variable1::Tipo,variable2::Tipo)\n",
    "\n",
    " return variable_salida\n",
    "end\n",
    "```\n",
    "\n",
    "- Si el tipo de variable no se especifica, Julia tratara de inferirlo.\n",
    "\n",
    "**Ejemplo**\n",
    "\n",
    "Una función sencilla puede dar lugar a diferentes operaciones con base al tipo de argumentos"
   ]
  },
  {
   "cell_type": "code",
   "execution_count": null,
   "metadata": {},
   "outputs": [],
   "source": [
    "function mi_potencia(A,n)\n",
    "    pA = A^n\n",
    "   return pA \n",
    "end"
   ]
  },
  {
   "cell_type": "markdown",
   "metadata": {},
   "source": [
    "Si la función se invoca con una matriz cuadrada y un número como argumentos, se comportará como un producto matricial:"
   ]
  },
  {
   "cell_type": "code",
   "execution_count": null,
   "metadata": {},
   "outputs": [],
   "source": [
    "mi_potencia(rand(3,3),3)"
   ]
  },
  {
   "cell_type": "markdown",
   "metadata": {},
   "source": [
    "Raíz cuadrada de una matriz "
   ]
  },
  {
   "cell_type": "code",
   "execution_count": null,
   "metadata": {},
   "outputs": [],
   "source": [
    "mi_potencia(rand(3,3),1/2)"
   ]
  },
  {
   "cell_type": "markdown",
   "metadata": {},
   "source": [
    "Pero si se invoca con dos cadenas como argumentos, se comportará como una concatenación de cadenas:"
   ]
  },
  {
   "cell_type": "markdown",
   "metadata": {},
   "source": [
    "Concatenación elemento a elemento de arreglos de cadenas"
   ]
  },
  {
   "cell_type": "code",
   "execution_count": null,
   "metadata": {},
   "outputs": [],
   "source": [
    "mi_potencia.(rand([\"a\",\"b\",\"c\",\"d\"],2,2),3)"
   ]
  },
  {
   "cell_type": "markdown",
   "metadata": {},
   "source": [
    "### [Conversiones](#contenidos) <a name=\"U4S2S7\"></a>\n",
    "\n",
    "En Julia, es posible convertir valores de un tipo de dato a otro mediante las funciones de conversión. \n",
    "\n",
    "Algunas de las funciones de conversión disponibles son:\n",
    "\n",
    " * `parse(T, str)`: convierte una cadena `str` en el tipo de dato `T`.\n",
    " * `convert(T, x)`: convierte el valor `x` al tipo de dato `T`.\n",
    " * `float(x)`: convierte `x` a un número de punto flotante de doble precisión (tipo `Float64`).\n",
    " * `round(x)`: redondea `x` al entero más cercano.\n",
    "  \n",
    "Ejemplos:"
   ]
  },
  {
   "cell_type": "code",
   "execution_count": null,
   "metadata": {},
   "outputs": [],
   "source": [
    "println(typeof(\"123\"))\n",
    "parse(Int, \"123\") # cadena ⟶ entero"
   ]
  },
  {
   "cell_type": "code",
   "execution_count": null,
   "metadata": {},
   "outputs": [],
   "source": [
    "println(typeof(123))\n",
    "convert(Float64, 123) # entero ⟶ flotante"
   ]
  },
  {
   "cell_type": "code",
   "execution_count": null,
   "metadata": {},
   "outputs": [],
   "source": [
    "println(typeof(π))\n",
    "float(π) # irracional ⟶ flotante de 64 bits"
   ]
  },
  {
   "cell_type": "code",
   "execution_count": null,
   "metadata": {},
   "outputs": [],
   "source": [
    "println(typeof(π))\n",
    "Float32(π) # irracional ⟶ flotante de 32 bits"
   ]
  },
  {
   "cell_type": "code",
   "execution_count": null,
   "metadata": {},
   "outputs": [],
   "source": [
    "println(typeof(21/5))\n",
    "round(21/5) # flotante ⟶ al entero más cercano"
   ]
  },
  {
   "cell_type": "code",
   "execution_count": null,
   "metadata": {},
   "outputs": [],
   "source": [
    "println(typeof(14.5))\n",
    "Rational(14.5) # flotante ⟶ racional"
   ]
  },
  {
   "cell_type": "code",
   "execution_count": null,
   "metadata": {},
   "outputs": [],
   "source": [
    "println(typeof(1501.123))\n",
    "string(1501.123) # Flotante ⟶ Cadena"
   ]
  },
  {
   "cell_type": "code",
   "execution_count": null,
   "metadata": {},
   "outputs": [],
   "source": [
    "Int64(floor(-1.8)) # Función Piso"
   ]
  },
  {
   "cell_type": "code",
   "execution_count": null,
   "metadata": {},
   "outputs": [],
   "source": [
    "Int64(ceil(-1.8)) # Función Techo"
   ]
  },
  {
   "cell_type": "markdown",
   "metadata": {},
   "source": [
    "En Julia, puedes pedir valores al usuario utilizando la función `readline()`, que espera a que el usuario ingrese un valor desde la consola y lo devuelve como una cadena de caracteres. \n",
    "\n",
    "Luego, si necesitas un valor numérico, puedes convertir esa cadena en un número utilizando las funciones de conversión de tipo, como `parse()`. \n",
    "\n",
    "Por ejemplo, si deseas solicitar un número entero al usuario, puedes hacer lo siguiente:"
   ]
  },
  {
   "cell_type": "code",
   "execution_count": null,
   "metadata": {},
   "outputs": [],
   "source": [
    "println(\"Ingresa un número entero:\")\n",
    "entrada = readline()\n",
    "numero = parse(Int, entrada)"
   ]
  },
  {
   "cell_type": "markdown",
   "metadata": {},
   "source": [
    "# [<font color=blue>Ejercicios</font>](#contenidos) <a name=\"U5\"></a>"
   ]
  },
  {
   "cell_type": "markdown",
   "metadata": {},
   "source": [
    "1. Introducción a Julia:\n",
    "* Realiza un programa que calcule el valor de la constante matemática `e` usando una serie de Taylor.\n",
    "* Implementa un programa que calcule la función factorial de un número entero utilizando un ciclo `for`.\n",
    "* Crea una función que calcule la suma de los primeros `n` términos de la serie de Fibonacci.\n",
    "2. Estructuras de datos:\n",
    "* Crea un diccionario que contenga los nombres de los planetas del sistema solar como claves y sus diámetros como valores.\n",
    "* Genera un arreglo que contenga los primeros `n` números primos.\n",
    "* Crea una tupla que contenga los coeficientes de un polinomio de segundo grado y calcula sus raíces utilizando la fórmula general.\n",
    "* Crear el tipo estructurado Planeta con los campos `rad`(radio orbital) y `per`(periodo orbital), luego agrega los datos de los planetas utilizando la sintaxis de creación de instancias de la estructura Planeta, enseguida calcular la constante de Kepler para cada planeta (investiga la fórmula correspondiente), por último muestra los resultados en una tabla. \n",
    "3. Condicionales y Ciclos:\n",
    "* Escribe un programa que solicite al usuario un número entero positivo y que imprima si es par o impar.\n",
    "* Implementa una función que calcule el máximo común divisor de dos números utilizando el algoritmo de Euclides.\n",
    "* Crea un programa que calcule la suma de los números impares del 1 al 100 utilizando un ciclo `while`.\n",
    "* Escribe una función en Julia que tome como entrada un arreglo de números enteros desordenados y lo ordene de menor a mayor utilizando el algoritmo de ordenamiento de selección. La función debe devolver el arreglo ordenado. Recuerda que el algoritmo de selección consiste en ir seleccionando el elemento más pequeño del arreglo y colocándolo en su posición correspondiente, repitiendo el proceso con el resto del arreglo hasta que todo el arreglo quede ordenado.\n",
    "4. Operaciones y Funciones:\n",
    "* Escribe una función que calcule la derivada numérica de una función en un punto dado utilizando el método de diferencias finitas.\n",
    "* Implementa una función que calcule la raíz cuadrada de un número utilizando el método de Newton-Raphson.\n",
    "* Crea un programa que calcule la integral numérica de una función utilizando el método del trapecio."
   ]
  },
  {
   "cell_type": "code",
   "execution_count": null,
   "metadata": {},
   "outputs": [],
   "source": []
  }
 ],
 "metadata": {
  "@webio": {
   "lastCommId": null,
   "lastKernelId": null
  },
  "kernelspec": {
   "display_name": "Julia 1.8.5",
   "language": "julia",
   "name": "julia-1.8"
  },
  "language_info": {
   "file_extension": ".jl",
   "mimetype": "application/julia",
   "name": "julia",
   "version": "1.8.5"
  }
 },
 "nbformat": 4,
 "nbformat_minor": 2
}
